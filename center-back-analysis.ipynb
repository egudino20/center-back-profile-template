{
 "cells": [
  {
   "cell_type": "markdown",
   "id": "58a6e7bb",
   "metadata": {},
   "source": [
    "# How do Central Defenders Contribute to the Build Up Play?"
   ]
  },
  {
   "cell_type": "code",
   "execution_count": 1164,
   "id": "9052dd7b",
   "metadata": {},
   "outputs": [],
   "source": [
    "import pandas as pd\n",
    "import numpy as np\n",
    "import matplotlib.pyplot as plt\n",
    "import matplotlib.patheffects as path_effects\n",
    "from matplotlib.lines import Line2D\n",
    "from matplotlib.font_manager import FontManager\n",
    "import plotly.express as px\n",
    "from PIL import Image\n",
    "from scipy import stats\n",
    "import math\n",
    "from sklearn.cluster import KMeans\n",
    "\n",
    "from adjustText import adjust_text\n",
    "\n",
    "from urllib.request import urlopen\n",
    "\n",
    "from mplsoccer import Pitch, VerticalPitch, FontManager\n",
    "\n",
    "import requests\n",
    "from bs4 import BeautifulSoup\n",
    "from selenium import webdriver"
   ]
  },
  {
   "cell_type": "code",
   "execution_count": 329,
   "id": "5820db8a",
   "metadata": {},
   "outputs": [],
   "source": [
    "cb = pd.read_csv('center-backs.csv')"
   ]
  },
  {
   "cell_type": "code",
   "execution_count": 2107,
   "id": "219e7dbb",
   "metadata": {},
   "outputs": [],
   "source": [
    "standardStats = pd.read_html('https://fbref.com/en/share/ngXpf', header=1)[0]\n",
    "standardStats = standardStats[['Player', 'Nation', 'Pos', 'Squad', 'Comp', 'Age', '90s']]\n",
    "standardStats = standardStats.drop_duplicates(['Player'])\n",
    "\n",
    "passingStats = pd.read_html('https://fbref.com/en/share/UvyXJ', header=1)[0]\n",
    "passingStats = passingStats[['Player', 'Cmp', 'Att', 'Cmp%', 'TotDist', 'PrgDist', '1/3', 'PPA', 'CrsPA', 'Prog']]\n",
    "passingStats = passingStats.drop_duplicates(['Player'])\n",
    "\n",
    "possessionStats = pd.read_html('https://fbref.com/en/share/kB0pM', header=1)[0]\n",
    "possessionStats = possessionStats[['Player', 'Touches', 'Def Pen', 'Def 3rd', 'Mid 3rd', 'Att 3rd', 'Att Pen', 'Carries', 'TotDist', 'PrgDist', 'Prog', 'Mis', 'Dis']]\n",
    "possessionStats = possessionStats.drop_duplicates(['Player'])\n",
    "\n",
    "miscStats = pd.read_html('https://fbref.com/en/share/wUvM6', header=1)[0]\n",
    "miscStats = miscStats[['Player', 'Fls', 'Won', 'Won%']]\n",
    "miscStats.drop_duplicates(['Player'])\n",
    "miscStats = miscStats[miscStats['Player'] != 'Player']\n",
    "miscStats = miscStats.fillna(value=0)\n",
    "miscStats[['Fls', 'Won', 'Won%']] = miscStats[['Fls', 'Won', 'Won%']].astype('float')\n",
    "\n",
    "defStats = pd.read_html('https://fbref.com/en/share/m2Krr', header=1)[0]\n",
    "defStats = defStats[['Player', 'Def 3rd', 'Mid 3rd', 'Att 3rd', 'Def 3rd.1', 'Mid 3rd.1', 'Att 3rd.1', 'Tkl', 'Tkl%', 'Int', 'Press']]\n",
    "defStats = defStats.drop_duplicates(['Player'])\n",
    "defStats = defStats[defStats['Player'] != 'Player']\n",
    "defStats[['Def 3rd', 'Mid 3rd', 'Att 3rd', 'Def 3rd.1', 'Mid 3rd.1', 'Att 3rd.1', 'Tkl', 'Tkl%', 'Int', 'Press']] = defStats[['Def 3rd', 'Mid 3rd', 'Att 3rd', 'Def 3rd.1', 'Mid 3rd.1', 'Att 3rd.1', 'Tkl', 'Tkl%', 'Int', 'Press']].astype('float')\n",
    "defStats['Def 3rd DA'] = defStats['Def 3rd'] + defStats['Def 3rd.1']\n",
    "defStats['Mid 3rd DA'] = defStats['Mid 3rd'] + defStats['Mid 3rd.1']\n",
    "defStats['Att 3rd DA'] = defStats['Att 3rd'] + defStats['Att 3rd.1']\n",
    "defStats = defStats[['Player', 'Def 3rd DA', 'Mid 3rd DA', 'Att 3rd DA', 'Tkl', 'Tkl%', 'Int', 'Press']]\n",
    "defStats = defStats.fillna(value=0)\n",
    "\n",
    "teamStats = pd.read_html('https://fbref.com/en/share/nHHQW', header=1)[0]\n",
    "teamStats = teamStats[['Squad', 'SoT']]"
   ]
  },
  {
   "cell_type": "code",
   "execution_count": 2108,
   "id": "b74b7063",
   "metadata": {},
   "outputs": [],
   "source": [
    "bplPassing = pd.read_html('https://fbref.com/en/share/XPG4t', header=1)[0]\n",
    "bplPassing['NR'] = bplPassing['Cmp'].mean() / bplPassing['Cmp']\n",
    "bplPassing = bplPassing[['Squad', 'Cmp', 'Prog', 'NR']]\n",
    "\n",
    "laligaPassing = pd.read_html('https://fbref.com/en/share/FR4JG', header=1)[0]\n",
    "laligaPassing['NR'] = laligaPassing['Cmp'].mean() / laligaPassing['Cmp']\n",
    "laligaPassing = laligaPassing[['Squad', 'Cmp', 'Prog', 'NR']]\n",
    "\n",
    "bundesligaPassing = pd.read_html('https://fbref.com/en/share/PLOV1', header=1)[0]\n",
    "bundesligaPassing['NR'] = bundesligaPassing['Cmp'].mean() / bundesligaPassing['Cmp']\n",
    "bundesligaPassing = bundesligaPassing[['Squad', 'Cmp', 'Prog', 'NR']]\n",
    "\n",
    "serieaPassing = pd.read_html('https://fbref.com/en/share/Yl7YH', header=1)[0]\n",
    "serieaPassing['NR'] = serieaPassing['Cmp'].mean() / serieaPassing['Cmp']\n",
    "serieaPassing = serieaPassing[['Squad', 'Cmp', 'Prog', 'NR']]\n",
    "\n",
    "ligue1Passing = pd.read_html('https://fbref.com/en/share/WI7XP', header=1)[0]\n",
    "ligue1Passing['NR'] = ligue1Passing['Cmp'].mean() / ligue1Passing['Cmp']\n",
    "ligue1Passing = ligue1Passing[['Squad', 'Cmp', 'Prog', 'NR']]"
   ]
  },
  {
   "cell_type": "code",
   "execution_count": 2109,
   "id": "8beb5447",
   "metadata": {},
   "outputs": [],
   "source": [
    "normRatios = pd.concat([bplPassing, laligaPassing, bundesligaPassing, serieaPassing, ligue1Passing]).reset_index()\n",
    "dfNR = normRatios[['Squad', 'NR']]"
   ]
  },
  {
   "cell_type": "code",
   "execution_count": 2110,
   "id": "13d84e4e",
   "metadata": {},
   "outputs": [],
   "source": [
    "topFive = pd.read_html('https://fbref.com/en/share/qdwUL', header=1)[0]\n",
    "topFive = topFive[['Squad', 'Touches']]\n",
    "topFive = topFive.rename({'Touches': 'TeamTouches'}, axis=1)"
   ]
  },
  {
   "cell_type": "code",
   "execution_count": 2111,
   "id": "568110b6",
   "metadata": {},
   "outputs": [],
   "source": [
    "df = pd.merge(standardStats, passingStats, on='Player', how='outer')\n",
    "df = pd.merge(df, possessionStats, on='Player', how='outer')\n",
    "df = pd.merge(df, teamStats, on='Squad', how='outer')\n",
    "df = pd.merge(df, dfNR, on='Squad', how='outer')\n",
    "df = pd.merge(df, topFive, on='Squad', how='outer')\n",
    "df = pd.merge(df, defStats, on='Player', how='outer')"
   ]
  },
  {
   "cell_type": "code",
   "execution_count": 2112,
   "id": "3052e583",
   "metadata": {},
   "outputs": [],
   "source": [
    "df = df.rename({'TotDist_x': 'TotDisPass',\n",
    "                'PrgDist_x': 'PrgDistPass',\n",
    "                'Prog_x': 'ProgPass',\n",
    "                'TotDist_y': 'TotDistCarry',\n",
    "                'PrgDist_y': 'PrgDistCarry',\n",
    "                'Prog_y': 'ProgCarry'}, axis=1)"
   ]
  },
  {
   "cell_type": "code",
   "execution_count": 2113,
   "id": "22adef93",
   "metadata": {},
   "outputs": [],
   "source": [
    "df['Nation'] = df['Nation'].str.split(' ').str[1]\n",
    "df['Comp1'] = df['Comp'].str.split(' ').str[1]\n",
    "df['Comp2'] = df['Comp'].str.split(' ').str[2]\n",
    "df['Comp'] = df['Comp1'] + \" \" + df['Comp2']\n",
    "df = df.drop(['Comp1', 'Comp2'], axis=1)"
   ]
  },
  {
   "cell_type": "code",
   "execution_count": 2114,
   "id": "9898e7a2",
   "metadata": {},
   "outputs": [],
   "source": [
    "df = df[df['90s'] != '90s']"
   ]
  },
  {
   "cell_type": "code",
   "execution_count": 2115,
   "id": "eb908cb1",
   "metadata": {},
   "outputs": [],
   "source": [
    "df[['90s', 'Cmp', 'Att', 'Cmp%', 'TotDisPass', 'PrgDistPass', '1/3', 'PPA', 'CrsPA', 'ProgPass', 'Touches', 'Def Pen', 'Def 3rd', 'Mid 3rd', 'Att 3rd', 'Att Pen', 'Carries', 'TotDistCarry', 'PrgDistCarry', 'ProgCarry', 'Mis', 'Dis', 'NR']] = df[['90s', 'Cmp', 'Att', 'Cmp%', 'TotDisPass', 'PrgDistPass', '1/3', 'PPA', 'CrsPA', 'ProgPass', 'Touches', 'Def Pen', 'Def 3rd', 'Mid 3rd', 'Att 3rd', 'Att Pen', 'Carries', 'TotDistCarry', 'PrgDistCarry', 'ProgCarry', 'Mis', 'Dis', 'NR']].astype('float')"
   ]
  },
  {
   "cell_type": "code",
   "execution_count": 2116,
   "id": "8cca7ba6",
   "metadata": {},
   "outputs": [],
   "source": [
    "df.Comp = df.Comp.fillna('Bundesliga')"
   ]
  },
  {
   "cell_type": "code",
   "execution_count": 2117,
   "id": "d7cea163",
   "metadata": {},
   "outputs": [
    {
     "data": {
      "text/plain": [
       "2630"
      ]
     },
     "execution_count": 2117,
     "metadata": {},
     "output_type": "execute_result"
    }
   ],
   "source": [
    "len(df)"
   ]
  },
  {
   "cell_type": "code",
   "execution_count": 2118,
   "id": "8c7b7562",
   "metadata": {},
   "outputs": [],
   "source": [
    "df = df.dropna()"
   ]
  },
  {
   "cell_type": "code",
   "execution_count": 2119,
   "id": "f5a73d3d",
   "metadata": {},
   "outputs": [],
   "source": [
    "df['normProg'] = round(df['ProgPass'] * df['NR'],2)"
   ]
  },
  {
   "cell_type": "code",
   "execution_count": 2120,
   "id": "452f8140",
   "metadata": {},
   "outputs": [],
   "source": [
    "df['shareTouches'] = round((df['Touches'] / df['TeamTouches'])*100,2)"
   ]
  },
  {
   "cell_type": "code",
   "execution_count": 2121,
   "id": "3ecb054b",
   "metadata": {},
   "outputs": [],
   "source": [
    "df.to_csv('df.csv')"
   ]
  },
  {
   "cell_type": "code",
   "execution_count": 2122,
   "id": "12d6808b",
   "metadata": {},
   "outputs": [],
   "source": [
    "df = df[df['90s'] > 15]"
   ]
  },
  {
   "cell_type": "markdown",
   "id": "346c41a0",
   "metadata": {},
   "source": [
    "### Metrics to Measure Ability of Center Backs to Contribute to Buildup Play\n",
    "1. Progressive Passes (Nomralise?)\n",
    "2. Progressive Carries (Normalise?)\n",
    "3. Share of touches in def/mid/att thirds out of total team touches\n",
    "4. Progressive passes per touches on the ball\n",
    "5. Progressive passes per pass attempted/completed\n",
    "6. Pass completion % total / short / medium / long\n",
    "7. Number of times player was a target of pass\n",
    "8. Number of times player successfully recieved pass\n",
    "9. recieved pass per times was target of pass\n",
    "10. touches per shot\n",
    "11. passes per shot\n",
    "12. progressive passes per shot\n",
    "13. xGXhain / xGBuildup\n",
    "\n",
    "### Possession Oriented Defender - American Soccer Analysis\n",
    "A central Defender who's on-ball actions often progress the ball and often defends higher up the pitch in the middle third"
   ]
  },
  {
   "cell_type": "code",
   "execution_count": 2123,
   "id": "ee14d717",
   "metadata": {},
   "outputs": [],
   "source": [
    "# disable chained assignments\n",
    "pd.options.mode.chained_assignment = None "
   ]
  },
  {
   "cell_type": "code",
   "execution_count": 2124,
   "id": "7688b37b",
   "metadata": {},
   "outputs": [],
   "source": [
    "df = df[df['Pos'] == 'DF']"
   ]
  },
  {
   "cell_type": "code",
   "execution_count": 2125,
   "id": "dd9e600d",
   "metadata": {},
   "outputs": [],
   "source": [
    "df = pd.merge(df, miscStats, on='Player', how='outer')"
   ]
  },
  {
   "cell_type": "code",
   "execution_count": 2126,
   "id": "3bd30e39",
   "metadata": {},
   "outputs": [],
   "source": [
    "df = df.dropna()"
   ]
  },
  {
   "cell_type": "code",
   "execution_count": 2127,
   "id": "66530650",
   "metadata": {},
   "outputs": [],
   "source": [
    "df['Mid 3rd DA%'] = df['Mid 3rd'] / (df['Def 3rd DA'] + df['Mid 3rd DA'] + df['Att 3rd DA'])\n",
    "df['Att 3rd DA%'] = df['Att 3rd'] / (df['Def 3rd DA'] + df['Mid 3rd DA'] + df['Att 3rd DA'])\n",
    "df['Def 3rd DA%'] = df['Def 3rd'] / (df['Def 3rd DA'] + df['Mid 3rd DA'] + df['Att 3rd DA'])"
   ]
  },
  {
   "cell_type": "code",
   "execution_count": 2128,
   "id": "20d57236",
   "metadata": {},
   "outputs": [],
   "source": [
    "df['Def 3rd Ratio'] = round(df['Def 3rd DA'] / (df['Mid 3rd DA'] + 0.000000000001),2)\n",
    "df['Mid 3rd Ratio'] = round(1 / (df['Def 3rd Ratio'] + 0.000000000001),2)"
   ]
  },
  {
   "cell_type": "code",
   "execution_count": 2129,
   "id": "b6eb0643",
   "metadata": {},
   "outputs": [],
   "source": [
    "df['ProgActions'] = df['ProgCarry'] + df['normProg']"
   ]
  },
  {
   "cell_type": "code",
   "execution_count": 2130,
   "id": "cd5c0794",
   "metadata": {},
   "outputs": [],
   "source": [
    "df = df[['Player', 'Comp', '90s', 'Cmp%', 'PrgDistPass', 'normProg', 'Def Pen', 'Def 3rd', 'Mid 3rd', 'Att 3rd',\n",
    "         'Att Pen', 'ProgCarry', 'PrgDistCarry', 'Mis', 'Dis', 'shareTouches', 'Def 3rd DA%', 'Mid 3rd DA%', 'Att 3rd DA%',\n",
    "         'ProgActions', 'Def 3rd Ratio', 'Mid 3rd Ratio', 'Tkl', 'Tkl%', 'Int', 'Press', 'Fls', 'Won', 'Won%']]"
   ]
  },
  {
   "cell_type": "code",
   "execution_count": 2131,
   "id": "f5b326ed",
   "metadata": {},
   "outputs": [],
   "source": [
    "model_df = df"
   ]
  },
  {
   "cell_type": "code",
   "execution_count": 2132,
   "id": "88a7c5ee",
   "metadata": {},
   "outputs": [
    {
     "data": {
      "text/plain": [
       "255"
      ]
     },
     "execution_count": 2132,
     "metadata": {},
     "output_type": "execute_result"
    }
   ],
   "source": [
    "len(df)"
   ]
  },
  {
   "cell_type": "code",
   "execution_count": 2133,
   "id": "92f5deba",
   "metadata": {},
   "outputs": [],
   "source": [
    "model_df['Share of Total Team Touches'] = pd.qcut(df['shareTouches'], np.linspace(0,1,91), labels=np.linspace(0.01,1,90))\n",
    "model_df['Progressive Actions'] = pd.qcut(df.ProgActions, np.linspace(0,1,101), labels=np.linspace(0.01,1,100))\n",
    "model_df['% of Defensive Actions in Middle 3rd'] = pd.qcut(df['Mid 3rd DA%'], np.linspace(0,1,101), labels=np.linspace(0.01,1,100))\n",
    "model_df['Def Pen Percentile'] = pd.qcut(df['Def Pen'], np.linspace(0,1,101), labels=np.linspace(0.01,1,100))"
   ]
  },
  {
   "cell_type": "code",
   "execution_count": 2134,
   "id": "19e21756",
   "metadata": {},
   "outputs": [],
   "source": [
    "model_df = model_df[['Player', 'Comp', 'Share of Total Team Touches', 'Progressive Actions', '% of Defensive Actions in Middle 3rd', 'Def Pen Percentile']]\n",
    "params = model_df.drop(['Player', 'Comp'], axis=1)"
   ]
  },
  {
   "cell_type": "code",
   "execution_count": 2135,
   "id": "68b2a140",
   "metadata": {},
   "outputs": [],
   "source": [
    "# implement kmeans algorithm\n",
    "X = np.array(params)\n",
    "kmeans = KMeans(n_clusters=3, random_state=100)\n",
    "kmeans.fit(X)\n",
    "model_df['cluster'] = kmeans.predict(X)"
   ]
  },
  {
   "cell_type": "code",
   "execution_count": 2136,
   "id": "8b216599",
   "metadata": {},
   "outputs": [
    {
     "data": {
      "application/vnd.plotly.v1+json": {
       "config": {
        "plotlyServerURL": "https://plot.ly"
       },
       "data": [
        {
         "a": [
          0.577303370786517,
          0.8665168539325843,
          0.3659550561797753,
          0.5550561797752809,
          0.08786516853932584,
          0.19910112359550564,
          0.14348314606741575,
          0.7997752808988765,
          0.02112359550561798,
          0.6996629213483146,
          0.35483146067415733,
          0.6329213483146068,
          0.4104494382022472,
          0.5661797752808989,
          0.13235955056179777,
          0.9777528089887642,
          0.521685393258427,
          0.8331460674157304,
          0.7997752808988765,
          0.49943820224719104,
          0.6996629213483146,
          0.29921348314606744,
          0.39932584269662924,
          0.577303370786517,
          0.8220224719101124,
          0.4326966292134832,
          0.29921348314606744,
          0.2769662921348315,
          0.532808988764045,
          0.5995505617977528,
          0.9666292134831461,
          0.7107865168539327,
          0.8553932584269663,
          0.6551685393258427,
          0.49943820224719104,
          0.9221348314606742,
          0.29921348314606744,
          0.9332584269662922,
          0.5995505617977528,
          0.8553932584269663,
          0.9888764044943821,
          0.24359550561797755,
          0.543932584269663,
          0.6662921348314608,
          0.1101123595505618,
          0.6885393258426966,
          0.06561797752808989,
          0.521685393258427,
          0.7664044943820225,
          0.18797752808988766,
          0.8553932584269663,
          0.38820224719101126,
          0.39932584269662924,
          0.7664044943820225,
          0.7441573033707866,
          0.2658426966292135,
          0.1101123595505618,
          0.5884269662921349,
          0.9888764044943821,
          0.4215730337078652,
          0.4771910112359551,
          0.7107865168539327,
          0.4104494382022472,
          0.4771910112359551,
          0.2769662921348315,
          0.5884269662921349,
          0.01,
          0.8776404494382023,
          0.9110112359550562,
          0.7219101123595506,
          0.8998876404494383,
          0.3659550561797753,
          0.6329213483146068,
          0.03224719101123596,
          0.3325842696629214,
          0.12123595505617978,
          0.5995505617977528,
          0.7107865168539327,
          0.38820224719101126,
          0.3103370786516854,
          0.543932584269663,
          0.02112359550561798,
          0.15460674157303372,
          0.7219101123595506,
          0.4215730337078652,
          0.03224719101123596,
          0.06561797752808989,
          0.2213483146067416,
          0.9666292134831461,
          0.6774157303370787,
          0.6217977528089889,
          0.9777528089887642,
          0.5995505617977528,
          0.7997752808988765,
          0.3770786516853933,
          0.2102247191011236,
          0.12123595505617978,
          0.13235955056179777,
          0.6662921348314608,
          0.35483146067415733,
          0.23247191011235957,
          0.3770786516853933,
          0.7552808988764046,
          0.8887640449438203,
          0.9777528089887642,
          0.45494382022471913,
          0.532808988764045,
          0.8553932584269663,
          0.2102247191011236,
          0.6217977528089889,
          0.14348314606741575,
          0.17685393258426968,
          0.01,
          0.9110112359550562,
          0.9332584269662922,
          0.7775280898876404,
          0.6774157303370787,
          0.08786516853932584,
          0.8331460674157304,
          0.09898876404494382,
          0.18797752808988766,
          0.510561797752809,
          0.15460674157303372,
          0.043370786516853936,
          0.23247191011235957,
          0.7552808988764046,
          0.49943820224719104,
          0.9332584269662922,
          0.4660674157303371,
          0.09898876404494382,
          0.9221348314606742,
          0.9221348314606742,
          0.44382022471910115,
          0.6440449438202247,
          0.09898876404494382,
          0.9443820224719102,
          0.9888764044943821,
          0.9110112359550562,
          0.2658426966292135,
          0.8220224719101124,
          0.9555056179775281,
          0.7441573033707866,
          0.8998876404494383,
          0.7219101123595506,
          0.4771910112359551,
          0.7552808988764046,
          0.6885393258426966,
          0.054494382022471914,
          0.3770786516853933,
          0.510561797752809,
          0.7997752808988765,
          0.6996629213483146,
          0.39932584269662924,
          0.07674157303370786,
          0.28808988764044946,
          0.7775280898876404,
          0.8887640449438203,
          1,
          0.03224719101123596,
          1,
          0.043370786516853936,
          0.1657303370786517,
          0.543932584269663,
          0.01,
          0.577303370786517,
          0.7886516853932585,
          0.7886516853932585,
          0.8331460674157304,
          0.7886516853932585,
          0.14348314606741575,
          0.19910112359550564,
          0.07674157303370786,
          0.4660674157303371,
          0.44382022471910115,
          0.4215730337078652,
          0.2769662921348315,
          0.9555056179775281,
          0.5661797752808989,
          0.8331460674157304,
          0.8331460674157304,
          0.4215730337078652,
          0.6217977528089889,
          0.532808988764045,
          0.7330337078651685,
          0.12123595505617978,
          0.49943820224719104,
          0.1657303370786517,
          0.7775280898876404,
          0.5995505617977528,
          0.1657303370786517,
          0.8108988764044944,
          0.2547191011235955,
          0.24359550561797755,
          0.043370786516853936,
          0.1101123595505618,
          0.4771910112359551,
          0.9666292134831461,
          0.34370786516853935,
          0.06561797752808989,
          0.3659550561797753,
          0.4104494382022472,
          0.9332584269662922,
          0.5995505617977528,
          0.4771910112359551,
          0.3214606741573034,
          0.6662921348314608,
          0.34370786516853935,
          0.6329213483146068,
          1,
          0.043370786516853936,
          0.3325842696629214,
          0.34370786516853935,
          0.17685393258426968,
          0.3103370786516854,
          0.7441573033707866,
          0.5550561797752809,
          0.6551685393258427,
          0.3325842696629214,
          0.44382022471910115,
          0.8331460674157304,
          0.02112359550561798,
          0.2769662921348315,
          0.08786516853932584,
          0.7330337078651685,
          0.14348314606741575,
          0.054494382022471914,
          0.9555056179775281,
          0.2547191011235955,
          0.29921348314606744,
          0.8776404494382023,
          0.3325842696629214,
          0.23247191011235957,
          0.6551685393258427,
          0.4215730337078652,
          0.28808988764044946,
          0.1657303370786517,
          0.6774157303370787,
          0.8998876404494383,
          0.2102247191011236,
          0.45494382022471913,
          0.18797752808988766,
          0.7330337078651685,
          0.4771910112359551,
          0.2658426966292135,
          0.6440449438202247,
          0.5550561797752809,
          0.23247191011235957,
          0.3214606741573034,
          0.4660674157303371,
          0.2213483146067416,
          0.5884269662921349,
          0.8108988764044944,
          0.8665168539325843,
          0.2213483146067416,
          0.8887640449438203
         ],
         "b": [
          0.8400000000000001,
          0.55,
          0.02,
          0.38,
          0.12,
          0.5800000000000001,
          0.51,
          0.93,
          0.060000000000000005,
          0.8200000000000001,
          0.08,
          0.67,
          0.3,
          0.76,
          0.36000000000000004,
          0.32,
          0.45,
          0.91,
          0.61,
          0.76,
          0.61,
          0.5800000000000001,
          0.23,
          0.14,
          0.49,
          0.2,
          0.34,
          0.39,
          0.11,
          0.26,
          0.89,
          0.08,
          0.6,
          0.060000000000000005,
          0.68,
          0.63,
          0.53,
          0.8400000000000001,
          0.56,
          0.78,
          0.5800000000000001,
          0.92,
          0.26,
          0.87,
          0.54,
          0.6,
          0.39,
          0.15000000000000002,
          0.74,
          0.49,
          0.73,
          0.35000000000000003,
          0.3,
          0.86,
          0.91,
          0.35000000000000003,
          0.01,
          0.36000000000000004,
          0.8,
          0.54,
          0.65,
          0.5,
          0.9600000000000001,
          0.59,
          0.09999999999999999,
          0.9,
          0.04,
          0.53,
          0.54,
          0.98,
          0.99,
          0.7100000000000001,
          0.73,
          0.21000000000000002,
          0.8300000000000001,
          0.24000000000000002,
          0.88,
          0.81,
          0.09999999999999999,
          0.8400000000000001,
          0.7000000000000001,
          0.01,
          0.5,
          0.45,
          0.86,
          0.85,
          0.52,
          0.06999999999999999,
          0.19,
          0.6900000000000001,
          0.99,
          1,
          0.93,
          0.99,
          0.75,
          0.46,
          0.09,
          0.3,
          0.75,
          0.93,
          0.06999999999999999,
          0.29000000000000004,
          0.88,
          0.15000000000000002,
          0.9600000000000001,
          0.27,
          0.97,
          0.9500000000000001,
          0.42000000000000004,
          0.63,
          0.11,
          0.4,
          0.01,
          0.87,
          0.9500000000000001,
          0.33,
          0.22,
          0.03,
          0.74,
          0.19,
          0.3,
          0.45,
          0.52,
          0.02,
          0.67,
          0.8,
          0.64,
          0.8300000000000001,
          0.62,
          0.17,
          1,
          1,
          0.44,
          0.55,
          0.09999999999999999,
          0.9,
          0.42000000000000004,
          0.66,
          0.15000000000000002,
          0.19,
          0.7100000000000001,
          0.33,
          0.21000000000000002,
          0.37,
          0.49,
          0.37,
          0.5,
          0.16,
          0.09,
          0.17,
          0.38,
          0.92,
          0.25,
          0.34,
          0.6900000000000001,
          0.46,
          0.65,
          0.88,
          0.12,
          0.91,
          0.28,
          0.24000000000000002,
          0.62,
          0.05,
          0.25,
          0.79,
          0.79,
          0.5700000000000001,
          0.38,
          0.14,
          0.04,
          0.5700000000000001,
          0.78,
          0.52,
          0.23,
          0.13,
          0.97,
          0.3,
          0.47000000000000003,
          0.47000000000000003,
          0.28,
          0.27,
          0.7100000000000001,
          0.2,
          0.17,
          0.77,
          0.08,
          0.48000000000000004,
          0.78,
          0.4,
          0.7000000000000001,
          0.04,
          0.39,
          0.05,
          0.21000000000000002,
          0.8400000000000001,
          0.8200000000000001,
          0.34,
          0.03,
          0.5800000000000001,
          0.65,
          0.89,
          0.86,
          0.16,
          0.89,
          0.25,
          0.72,
          0.9500000000000001,
          0.97,
          0.41000000000000003,
          0.56,
          0.67,
          0.41000000000000003,
          0.98,
          0.8200000000000001,
          0.4,
          0.13,
          0.02,
          0.56,
          0.64,
          0.79,
          0.36000000000000004,
          0.12,
          0.76,
          0.13,
          0.25,
          0.72,
          0.18000000000000002,
          0.51,
          0.73,
          0.62,
          0.43,
          0.28,
          0.28,
          0.47000000000000003,
          0.060000000000000005,
          0.18000000000000002,
          0.9400000000000001,
          0.6,
          0.32,
          0.75,
          0.65,
          0.67,
          0.43,
          0.77,
          0.22,
          0.43,
          0.48000000000000004,
          0.63,
          0.44,
          0.22,
          0.68,
          0.9400000000000001,
          0.32,
          0.81
         ],
         "c": [
          0.21000000000000002,
          0.86,
          0.27,
          0.17,
          0.55,
          0.25,
          0.6,
          0.73,
          0.54,
          0.48000000000000004,
          0.5700000000000001,
          0.46,
          0.36000000000000004,
          0.34,
          0.11,
          0.99,
          0.92,
          0.7100000000000001,
          0.6,
          0.4,
          0.45,
          0.12,
          0.31,
          0.6900000000000001,
          0.97,
          0.88,
          0.76,
          0.88,
          0.43,
          0.39,
          0.75,
          0.92,
          0.9400000000000001,
          0.7000000000000001,
          0.23,
          0.47000000000000003,
          0.47000000000000003,
          0.67,
          0.8400000000000001,
          0.41000000000000003,
          0.87,
          0.38,
          0.8300000000000001,
          0.62,
          0.29000000000000004,
          0.65,
          0.19,
          0.68,
          0.56,
          0.38,
          0.41000000000000003,
          0.81,
          0.41000000000000003,
          0.14,
          0.2,
          0.05,
          0.08,
          0.45,
          0.86,
          0.97,
          0.8,
          0.74,
          0.5800000000000001,
          0.54,
          0.7100000000000001,
          0.09,
          0.37,
          0.51,
          0.75,
          0.77,
          0.54,
          0.5,
          0.22,
          0.6900000000000001,
          0.72,
          0.8400000000000001,
          0.11,
          0.32,
          0.16,
          0.5800000000000001,
          0.35000000000000003,
          0.64,
          0.5700000000000001,
          0.51,
          0.060000000000000005,
          0.01,
          0.13,
          0.64,
          0.46,
          0.75,
          0.8200000000000001,
          0.9500000000000001,
          0.99,
          1,
          0.08,
          0.85,
          0.67,
          0.43,
          0.17,
          0.2,
          0.05,
          0.93,
          0.97,
          0.66,
          0.89,
          1,
          0.98,
          0.8300000000000001,
          0.44,
          0.08,
          0.3,
          0.44,
          0.52,
          0.02,
          0.17,
          0.7000000000000001,
          0.52,
          0.53,
          0.26,
          0.03,
          0.59,
          0.9500000000000001,
          0.13,
          0.19,
          0.09999999999999999,
          0.35000000000000003,
          0.88,
          0.99,
          0.15000000000000002,
          0.27,
          0.65,
          0.65,
          0.32,
          0.31,
          0.63,
          0.76,
          0.9600000000000001,
          0.76,
          0.09999999999999999,
          0.33,
          0.77,
          0.8,
          0.9500000000000001,
          0.86,
          0.02,
          0.56,
          0.18000000000000002,
          0.04,
          0.18000000000000002,
          0.3,
          0.87,
          0.36000000000000004,
          0.89,
          0.66,
          0.01,
          0.19,
          0.28,
          0.93,
          0.73,
          0.24000000000000002,
          0.48000000000000004,
          0.45,
          0.060000000000000005,
          0.42000000000000004,
          0.6900000000000001,
          0.28,
          0.28,
          0.74,
          0.39,
          0.06999999999999999,
          0.12,
          0.01,
          0.3,
          0.06999999999999999,
          0.29000000000000004,
          0.56,
          0.16,
          0.8,
          0.5,
          0.5,
          0.79,
          0.09999999999999999,
          0.34,
          0.37,
          0.21000000000000002,
          0.61,
          0.63,
          0.98,
          0.78,
          0.68,
          0.13,
          0.49,
          0.49,
          0.47000000000000003,
          0.36000000000000004,
          0.04,
          0.49,
          0.21000000000000002,
          0.32,
          0.9,
          0.78,
          0.9400000000000001,
          0.62,
          0.34,
          0.26,
          0.72,
          0.09,
          0.93,
          0.8200000000000001,
          0.02,
          0.52,
          0.15000000000000002,
          0.6,
          0.55,
          0.25,
          0.62,
          0.79,
          0.61,
          0.33,
          0.67,
          0.12,
          0.9,
          0.63,
          0.42000000000000004,
          0.7100000000000001,
          0.26,
          0.53,
          0.14,
          0.060000000000000005,
          0.43,
          0.03,
          0.8400000000000001,
          0.81,
          0.22,
          0.04,
          0.15000000000000002,
          0.89,
          0.91,
          0.25,
          0.8200000000000001,
          0.23,
          1,
          0.9600000000000001,
          0.24000000000000002,
          0.38,
          0.85,
          0.59,
          0.4,
          0.39,
          0.23,
          0.91,
          0.5800000000000001,
          0.73,
          0.91,
          0.78
         ],
         "hovertemplate": "<b>%{hovertext}</b><br><br>Share of Total Team Touches=%{a}<br>Progressive Actions=%{marker.size}<br>% of Defensive Actions in Middle 3rd=%{c}<br>cluster=%{marker.color}<extra></extra>",
         "hovertext": [
          "Max Aarons",
          "Ben Gibson",
          "Grant Hanley",
          "Yunis Abdelhamid",
          "Wout Faes",
          "Thomas Foket",
          "Andrew Gravillon",
          "Ghislain Konan",
          "Cédric Hountondji",
          "Vital N'Simba",
          "Florent Ogier",
          "Akim Zedadka",
          "Julien Laporte",
          "Vincent Le Goff",
          "Houboulang Mendes",
          "Nayef Aguerd",
          "Warmed Omari",
          "Hamari Traoré",
          "Roger Ibanez",
          "Rick Karsdorp",
          "Gianluca Mancini",
          "Matías Viña",
          "Carlos Neva",
          "Germán Sánchez",
          "Francesco Acerbi",
          "Luiz Felipe",
          "Elseid Hysaj",
          "Adam Marušić",
          "Martin Hinteregger",
          "Obite N'Dicka",
          "Marcos Acuña",
          "Diego Carlos",
          "Jules Koundé",
          "Jan Bednarek",
          "Valentino Livramento",
          "Mohammed Salisu",
          "Angeliño",
          "Joško Gvardiol",
          "Willi Orban",
          "David Raum",
          "Kevin Vogt",
          "Jeremie Frimpong",
          "Jonathan Tah",
          "Enock Kwateng",
          "Ricardo Mangas",
          "Lorenzo De Silvestri",
          "Aaron Hickey",
          "Gary Medel",
          "Arthur Theate",
          "Mikel Balenziaga",
          "Iñigo Lekue",
          "Iñigo Martínez",
          "Brendan Chardonnet",
          "Jean-Kevin Duverne",
          "Ronaël Pierre-Gabriel",
          "Kelvin Amian",
          "Martin Erlic",
          "Dimitris Nikolaou",
          "Jordi Alba",
          "Gerard Piqué",
          "Axel Disasi",
          "Guillermo Maripán",
          "Caio Henrique Oliveira Silva",
          "Iván Balliu",
          "Catena",
          "Francisco Garcia",
          "Esteban Saveljich",
          "Waldemar Anton",
          "Konstantinos Mavropanos",
          "Borna Sosa",
          "Anthony Caci",
          "Alexander Djiku",
          "Frederic Guilbert",
          "Gerzino Nyamsi",
          "Lucas Perrin",
          "Néstor Araujo",
          "Javi Galán",
          "Hugo Mallo",
          "Gleison Bremer",
          "Ricardo Rodríguez",
          "Wilfried Singo",
          "Conor Coady",
          "Max Kilman",
          "Romain Saïss",
          "Nélson Semedo",
          "Sergi Canós",
          "Rico Henry",
          "Pontus Jansson",
          "Ethan Pinnock",
          "Manuel Akanji",
          "Thomas Meunier",
          "João Cancelo",
          "Rúben Dias",
          "Aymeric Laporte",
          "Álex Moreno",
          "David Alaba",
          "Éder Militão",
          "Dylan Bronn",
          "Fabien Centonze",
          "Thomas Delaine",
          "Boubakar Kouyaté",
          "Raúl Albiol",
          "Pau Torres",
          "Çağlar Söyüncü",
          "Trent Alexander-Arnold",
          "Virgil van Dijk",
          "Joël Matip",
          "Andrew Robertson",
          "Omar Alderete",
          "José Luis Gayà",
          "Jorge Cuenca",
          "Djené",
          "Stefan Mitrović",
          "Mathías Olivera",
          "Jimmy Cabot",
          "Vincent Manceau",
          "Romain Thomas",
          "Ismaël Traoré",
          "Séamus Coleman",
          "Ben Godfrey",
          "Michael Keane",
          "Eric Dier",
          "Sergio Reguilón",
          "Jamaal Lascelles",
          "Marcos Alonso",
          "César Azpilicueta",
          "Antonio Rüdiger",
          "Thiago Silva",
          "Andrea Carboni",
          "Charalambos Lykogiannis",
          "Marc Cucurella",
          "Marc Cucurella",
          "Joël Veltman",
          "Pablo Maffeo",
          "Martin Valjent",
          "Melvin Bard",
          "Dante",
          "Jean-Clair Todibo",
          "Mattia Caldara",
          "Pietro Ceccaroni",
          "Cristiano Biraghi",
          "Nikola Milenković",
          "Joachim Andersen",
          "Marc Guéhi",
          "Tyrick Mitchell",
          "Joel Ward",
          "Cédric Brunner",
          "Joakim Nilsson",
          "Amos Pieper",
          "Niklas Stark",
          "Sven Botman",
          "Zeki Çelik",
          "José Fonte",
          "David García",
          "Manuel Sánchez",
          "Nacho Vidal",
          "Vladimír Coufal",
          "Aaron Cresswell",
          "Craig Dawson",
          "Danilo Soares",
          "Jean-Charles Castelletto",
          "Nicolas Pallois",
          "Matty Cash",
          "Ezri Konsa",
          "Tyrone Mings",
          "Matt Targett",
          "Matt Targett",
          "John Brooks",
          "Maxence Lacroix",
          "Rodrigo Becão",
          "Bram Nuytinck",
          "Iyenoma Udogie",
          "Tommaso Augello",
          "Bartosz Bereszyński",
          "Omar Colley",
          "Maya Yoshida",
          "Petar Stojanović",
          "Gabriel Dos Santos",
          "Takehiro Tomiyasu",
          "Takehiro Tomiyasu",
          "Ben White",
          "Timo Baumgartl",
          "Niko Gießelmann",
          "Robin Knoche",
          "Norbert Gyömbér",
          "Luca Ranieri",
          "Vlad Chiricheș",
          "Gian Marco Ferrari",
          "Rogério",
          "Jeremy Toljan",
          "Giulian Biancone",
          "Jimmy Giraudon",
          "Yoann Salmier",
          "Craig Cathcart",
          "William Troost-Ekong",
          "Andrea Cambiaso",
          "Johan Mojica",
          "Helibelton Palacios",
          "Enzo Roco",
          "Harry Maguire",
          "Luan Peres Petroni",
          "William Saliba",
          "Theo Hernández",
          "Fikayo Tomori",
          "Jonathan Clauss",
          "Kevin Danso",
          "Przemysław Frankowski",
          "Jonathan Gradit",
          "Facundo Medina",
          "Nicolò Casale",
          "Federico Ceccherini",
          "Davide Faraoni",
          "Koray Günter",
          "Darko Lazović",
          "Carlos Clerc",
          "Rúben Vezo",
          "Leandro Cabrera",
          "Sergi Gómez",
          "Pedrosa",
          "Alessandro Bastoni",
          "Ivan Perišić",
          "Milan Škriniar",
          "Stefan de Vrij",
          "Matthew Lowton",
          "Ben Mee",
          "James Tarkowski",
          "Charlie Taylor",
          "Stefan Bell",
          "Aarón Martín",
          "Moussa Niakhate",
          "Silvan Widmer",
          "Aritz Elustondo",
          "Robin Le Normand",
          "Jeffrey Gouweleeuw",
          "Robert Gumny",
          "Reece Oxford",
          "Nico Elvedi",
          "Matthias Ginter",
          "Joseph Scally",
          "Matthijs de Ligt",
          "Achraf Hakimi",
          "Presnel Kimpembe",
          "Marquinhos",
          "Nicolas Cozza",
          "Mihailo Ristić",
          "Mamadou Sakho",
          "Berat Djimsiti",
          "José Luis Palomino",
          "Christian Günter",
          "Lukas Kübler",
          "Philipp Lienhart",
          "Nico Schlotterbeck",
          "Giovanni Di Lorenzo",
          "Amir Rrahmani",
          "Mário Rui"
         ],
         "legendgroup": "",
         "marker": {
          "color": [
           1,
           2,
           0,
           0,
           0,
           1,
           0,
           1,
           0,
           1,
           0,
           1,
           0,
           1,
           0,
           2,
           2,
           1,
           2,
           1,
           2,
           1,
           0,
           2,
           2,
           2,
           0,
           0,
           0,
           0,
           1,
           2,
           2,
           2,
           1,
           2,
           1,
           1,
           2,
           1,
           2,
           1,
           2,
           1,
           0,
           1,
           0,
           2,
           1,
           0,
           1,
           2,
           0,
           1,
           1,
           0,
           0,
           2,
           1,
           2,
           2,
           2,
           1,
           1,
           0,
           1,
           0,
           2,
           2,
           1,
           1,
           1,
           1,
           0,
           1,
           0,
           1,
           1,
           0,
           1,
           1,
           0,
           0,
           2,
           1,
           1,
           0,
           0,
           2,
           2,
           1,
           1,
           2,
           2,
           1,
           2,
           0,
           0,
           1,
           1,
           0,
           2,
           2,
           2,
           1,
           2,
           2,
           1,
           0,
           1,
           0,
           0,
           0,
           1,
           1,
           2,
           2,
           0,
           1,
           0,
           0,
           2,
           0,
           0,
           1,
           1,
           2,
           2,
           1,
           0,
           1,
           1,
           0,
           1,
           0,
           1,
           2,
           2,
           0,
           2,
           1,
           2,
           2,
           2,
           1,
           2,
           1,
           0,
           0,
           0,
           2,
           1,
           2,
           0,
           1,
           1,
           1,
           1,
           0,
           1,
           0,
           0,
           1,
           0,
           2,
           1,
           1,
           2,
           2,
           0,
           0,
           1,
           1,
           1,
           0,
           0,
           1,
           2,
           1,
           1,
           2,
           0,
           1,
           2,
           0,
           1,
           0,
           2,
           1,
           0,
           1,
           0,
           0,
           0,
           0,
           1,
           1,
           0,
           0,
           2,
           1,
           2,
           1,
           0,
           1,
           2,
           1,
           2,
           2,
           0,
           0,
           1,
           0,
           1,
           1,
           2,
           2,
           0,
           1,
           2,
           1,
           2,
           0,
           1,
           0,
           0,
           1,
           0,
           1,
           1,
           1,
           2,
           2,
           0,
           0,
           0,
           2,
           2,
           1,
           2,
           1,
           2,
           2,
           0,
           1,
           2,
           0,
           0,
           1,
           0,
           2,
           2,
           1,
           2,
           1
          ],
          "coloraxis": "coloraxis",
          "size": [
           0.8400000000000001,
           0.55,
           0.02,
           0.38,
           0.12,
           0.5800000000000001,
           0.51,
           0.93,
           0.060000000000000005,
           0.8200000000000001,
           0.08,
           0.67,
           0.3,
           0.76,
           0.36000000000000004,
           0.32,
           0.45,
           0.91,
           0.61,
           0.76,
           0.61,
           0.5800000000000001,
           0.23,
           0.14,
           0.49,
           0.2,
           0.34,
           0.39,
           0.11,
           0.26,
           0.89,
           0.08,
           0.6,
           0.060000000000000005,
           0.68,
           0.63,
           0.53,
           0.8400000000000001,
           0.56,
           0.78,
           0.5800000000000001,
           0.92,
           0.26,
           0.87,
           0.54,
           0.6,
           0.39,
           0.15000000000000002,
           0.74,
           0.49,
           0.73,
           0.35000000000000003,
           0.3,
           0.86,
           0.91,
           0.35000000000000003,
           0.01,
           0.36000000000000004,
           0.8,
           0.54,
           0.65,
           0.5,
           0.9600000000000001,
           0.59,
           0.09999999999999999,
           0.9,
           0.04,
           0.53,
           0.54,
           0.98,
           0.99,
           0.7100000000000001,
           0.73,
           0.21000000000000002,
           0.8300000000000001,
           0.24000000000000002,
           0.88,
           0.81,
           0.09999999999999999,
           0.8400000000000001,
           0.7000000000000001,
           0.01,
           0.5,
           0.45,
           0.86,
           0.85,
           0.52,
           0.06999999999999999,
           0.19,
           0.6900000000000001,
           0.99,
           1,
           0.93,
           0.99,
           0.75,
           0.46,
           0.09,
           0.3,
           0.75,
           0.93,
           0.06999999999999999,
           0.29000000000000004,
           0.88,
           0.15000000000000002,
           0.9600000000000001,
           0.27,
           0.97,
           0.9500000000000001,
           0.42000000000000004,
           0.63,
           0.11,
           0.4,
           0.01,
           0.87,
           0.9500000000000001,
           0.33,
           0.22,
           0.03,
           0.74,
           0.19,
           0.3,
           0.45,
           0.52,
           0.02,
           0.67,
           0.8,
           0.64,
           0.8300000000000001,
           0.62,
           0.17,
           1,
           1,
           0.44,
           0.55,
           0.09999999999999999,
           0.9,
           0.42000000000000004,
           0.66,
           0.15000000000000002,
           0.19,
           0.7100000000000001,
           0.33,
           0.21000000000000002,
           0.37,
           0.49,
           0.37,
           0.5,
           0.16,
           0.09,
           0.17,
           0.38,
           0.92,
           0.25,
           0.34,
           0.6900000000000001,
           0.46,
           0.65,
           0.88,
           0.12,
           0.91,
           0.28,
           0.24000000000000002,
           0.62,
           0.05,
           0.25,
           0.79,
           0.79,
           0.5700000000000001,
           0.38,
           0.14,
           0.04,
           0.5700000000000001,
           0.78,
           0.52,
           0.23,
           0.13,
           0.97,
           0.3,
           0.47000000000000003,
           0.47000000000000003,
           0.28,
           0.27,
           0.7100000000000001,
           0.2,
           0.17,
           0.77,
           0.08,
           0.48000000000000004,
           0.78,
           0.4,
           0.7000000000000001,
           0.04,
           0.39,
           0.05,
           0.21000000000000002,
           0.8400000000000001,
           0.8200000000000001,
           0.34,
           0.03,
           0.5800000000000001,
           0.65,
           0.89,
           0.86,
           0.16,
           0.89,
           0.25,
           0.72,
           0.9500000000000001,
           0.97,
           0.41000000000000003,
           0.56,
           0.67,
           0.41000000000000003,
           0.98,
           0.8200000000000001,
           0.4,
           0.13,
           0.02,
           0.56,
           0.64,
           0.79,
           0.36000000000000004,
           0.12,
           0.76,
           0.13,
           0.25,
           0.72,
           0.18000000000000002,
           0.51,
           0.73,
           0.62,
           0.43,
           0.28,
           0.28,
           0.47000000000000003,
           0.060000000000000005,
           0.18000000000000002,
           0.9400000000000001,
           0.6,
           0.32,
           0.75,
           0.65,
           0.67,
           0.43,
           0.77,
           0.22,
           0.43,
           0.48000000000000004,
           0.63,
           0.44,
           0.22,
           0.68,
           0.9400000000000001,
           0.32,
           0.81
          ],
          "sizemode": "area",
          "sizeref": 0.0044444444444444444,
          "symbol": "circle"
         },
         "mode": "markers",
         "name": "",
         "showlegend": false,
         "subplot": "ternary",
         "type": "scatterternary"
        }
       ],
       "layout": {
        "coloraxis": {
         "colorbar": {
          "title": {
           "text": "cluster"
          }
         },
         "colorscale": [
          [
           0,
           "#0d0887"
          ],
          [
           0.1111111111111111,
           "#46039f"
          ],
          [
           0.2222222222222222,
           "#7201a8"
          ],
          [
           0.3333333333333333,
           "#9c179e"
          ],
          [
           0.4444444444444444,
           "#bd3786"
          ],
          [
           0.5555555555555556,
           "#d8576b"
          ],
          [
           0.6666666666666666,
           "#ed7953"
          ],
          [
           0.7777777777777778,
           "#fb9f3a"
          ],
          [
           0.8888888888888888,
           "#fdca26"
          ],
          [
           1,
           "#f0f921"
          ]
         ]
        },
        "legend": {
         "itemsizing": "constant",
         "tracegroupgap": 0
        },
        "template": {
         "data": {
          "bar": [
           {
            "error_x": {
             "color": "#2a3f5f"
            },
            "error_y": {
             "color": "#2a3f5f"
            },
            "marker": {
             "line": {
              "color": "#E5ECF6",
              "width": 0.5
             },
             "pattern": {
              "fillmode": "overlay",
              "size": 10,
              "solidity": 0.2
             }
            },
            "type": "bar"
           }
          ],
          "barpolar": [
           {
            "marker": {
             "line": {
              "color": "#E5ECF6",
              "width": 0.5
             },
             "pattern": {
              "fillmode": "overlay",
              "size": 10,
              "solidity": 0.2
             }
            },
            "type": "barpolar"
           }
          ],
          "carpet": [
           {
            "aaxis": {
             "endlinecolor": "#2a3f5f",
             "gridcolor": "white",
             "linecolor": "white",
             "minorgridcolor": "white",
             "startlinecolor": "#2a3f5f"
            },
            "baxis": {
             "endlinecolor": "#2a3f5f",
             "gridcolor": "white",
             "linecolor": "white",
             "minorgridcolor": "white",
             "startlinecolor": "#2a3f5f"
            },
            "type": "carpet"
           }
          ],
          "choropleth": [
           {
            "colorbar": {
             "outlinewidth": 0,
             "ticks": ""
            },
            "type": "choropleth"
           }
          ],
          "contour": [
           {
            "colorbar": {
             "outlinewidth": 0,
             "ticks": ""
            },
            "colorscale": [
             [
              0,
              "#0d0887"
             ],
             [
              0.1111111111111111,
              "#46039f"
             ],
             [
              0.2222222222222222,
              "#7201a8"
             ],
             [
              0.3333333333333333,
              "#9c179e"
             ],
             [
              0.4444444444444444,
              "#bd3786"
             ],
             [
              0.5555555555555556,
              "#d8576b"
             ],
             [
              0.6666666666666666,
              "#ed7953"
             ],
             [
              0.7777777777777778,
              "#fb9f3a"
             ],
             [
              0.8888888888888888,
              "#fdca26"
             ],
             [
              1,
              "#f0f921"
             ]
            ],
            "type": "contour"
           }
          ],
          "contourcarpet": [
           {
            "colorbar": {
             "outlinewidth": 0,
             "ticks": ""
            },
            "type": "contourcarpet"
           }
          ],
          "heatmap": [
           {
            "colorbar": {
             "outlinewidth": 0,
             "ticks": ""
            },
            "colorscale": [
             [
              0,
              "#0d0887"
             ],
             [
              0.1111111111111111,
              "#46039f"
             ],
             [
              0.2222222222222222,
              "#7201a8"
             ],
             [
              0.3333333333333333,
              "#9c179e"
             ],
             [
              0.4444444444444444,
              "#bd3786"
             ],
             [
              0.5555555555555556,
              "#d8576b"
             ],
             [
              0.6666666666666666,
              "#ed7953"
             ],
             [
              0.7777777777777778,
              "#fb9f3a"
             ],
             [
              0.8888888888888888,
              "#fdca26"
             ],
             [
              1,
              "#f0f921"
             ]
            ],
            "type": "heatmap"
           }
          ],
          "heatmapgl": [
           {
            "colorbar": {
             "outlinewidth": 0,
             "ticks": ""
            },
            "colorscale": [
             [
              0,
              "#0d0887"
             ],
             [
              0.1111111111111111,
              "#46039f"
             ],
             [
              0.2222222222222222,
              "#7201a8"
             ],
             [
              0.3333333333333333,
              "#9c179e"
             ],
             [
              0.4444444444444444,
              "#bd3786"
             ],
             [
              0.5555555555555556,
              "#d8576b"
             ],
             [
              0.6666666666666666,
              "#ed7953"
             ],
             [
              0.7777777777777778,
              "#fb9f3a"
             ],
             [
              0.8888888888888888,
              "#fdca26"
             ],
             [
              1,
              "#f0f921"
             ]
            ],
            "type": "heatmapgl"
           }
          ],
          "histogram": [
           {
            "marker": {
             "pattern": {
              "fillmode": "overlay",
              "size": 10,
              "solidity": 0.2
             }
            },
            "type": "histogram"
           }
          ],
          "histogram2d": [
           {
            "colorbar": {
             "outlinewidth": 0,
             "ticks": ""
            },
            "colorscale": [
             [
              0,
              "#0d0887"
             ],
             [
              0.1111111111111111,
              "#46039f"
             ],
             [
              0.2222222222222222,
              "#7201a8"
             ],
             [
              0.3333333333333333,
              "#9c179e"
             ],
             [
              0.4444444444444444,
              "#bd3786"
             ],
             [
              0.5555555555555556,
              "#d8576b"
             ],
             [
              0.6666666666666666,
              "#ed7953"
             ],
             [
              0.7777777777777778,
              "#fb9f3a"
             ],
             [
              0.8888888888888888,
              "#fdca26"
             ],
             [
              1,
              "#f0f921"
             ]
            ],
            "type": "histogram2d"
           }
          ],
          "histogram2dcontour": [
           {
            "colorbar": {
             "outlinewidth": 0,
             "ticks": ""
            },
            "colorscale": [
             [
              0,
              "#0d0887"
             ],
             [
              0.1111111111111111,
              "#46039f"
             ],
             [
              0.2222222222222222,
              "#7201a8"
             ],
             [
              0.3333333333333333,
              "#9c179e"
             ],
             [
              0.4444444444444444,
              "#bd3786"
             ],
             [
              0.5555555555555556,
              "#d8576b"
             ],
             [
              0.6666666666666666,
              "#ed7953"
             ],
             [
              0.7777777777777778,
              "#fb9f3a"
             ],
             [
              0.8888888888888888,
              "#fdca26"
             ],
             [
              1,
              "#f0f921"
             ]
            ],
            "type": "histogram2dcontour"
           }
          ],
          "mesh3d": [
           {
            "colorbar": {
             "outlinewidth": 0,
             "ticks": ""
            },
            "type": "mesh3d"
           }
          ],
          "parcoords": [
           {
            "line": {
             "colorbar": {
              "outlinewidth": 0,
              "ticks": ""
             }
            },
            "type": "parcoords"
           }
          ],
          "pie": [
           {
            "automargin": true,
            "type": "pie"
           }
          ],
          "scatter": [
           {
            "marker": {
             "colorbar": {
              "outlinewidth": 0,
              "ticks": ""
             }
            },
            "type": "scatter"
           }
          ],
          "scatter3d": [
           {
            "line": {
             "colorbar": {
              "outlinewidth": 0,
              "ticks": ""
             }
            },
            "marker": {
             "colorbar": {
              "outlinewidth": 0,
              "ticks": ""
             }
            },
            "type": "scatter3d"
           }
          ],
          "scattercarpet": [
           {
            "marker": {
             "colorbar": {
              "outlinewidth": 0,
              "ticks": ""
             }
            },
            "type": "scattercarpet"
           }
          ],
          "scattergeo": [
           {
            "marker": {
             "colorbar": {
              "outlinewidth": 0,
              "ticks": ""
             }
            },
            "type": "scattergeo"
           }
          ],
          "scattergl": [
           {
            "marker": {
             "colorbar": {
              "outlinewidth": 0,
              "ticks": ""
             }
            },
            "type": "scattergl"
           }
          ],
          "scattermapbox": [
           {
            "marker": {
             "colorbar": {
              "outlinewidth": 0,
              "ticks": ""
             }
            },
            "type": "scattermapbox"
           }
          ],
          "scatterpolar": [
           {
            "marker": {
             "colorbar": {
              "outlinewidth": 0,
              "ticks": ""
             }
            },
            "type": "scatterpolar"
           }
          ],
          "scatterpolargl": [
           {
            "marker": {
             "colorbar": {
              "outlinewidth": 0,
              "ticks": ""
             }
            },
            "type": "scatterpolargl"
           }
          ],
          "scatterternary": [
           {
            "marker": {
             "colorbar": {
              "outlinewidth": 0,
              "ticks": ""
             }
            },
            "type": "scatterternary"
           }
          ],
          "surface": [
           {
            "colorbar": {
             "outlinewidth": 0,
             "ticks": ""
            },
            "colorscale": [
             [
              0,
              "#0d0887"
             ],
             [
              0.1111111111111111,
              "#46039f"
             ],
             [
              0.2222222222222222,
              "#7201a8"
             ],
             [
              0.3333333333333333,
              "#9c179e"
             ],
             [
              0.4444444444444444,
              "#bd3786"
             ],
             [
              0.5555555555555556,
              "#d8576b"
             ],
             [
              0.6666666666666666,
              "#ed7953"
             ],
             [
              0.7777777777777778,
              "#fb9f3a"
             ],
             [
              0.8888888888888888,
              "#fdca26"
             ],
             [
              1,
              "#f0f921"
             ]
            ],
            "type": "surface"
           }
          ],
          "table": [
           {
            "cells": {
             "fill": {
              "color": "#EBF0F8"
             },
             "line": {
              "color": "white"
             }
            },
            "header": {
             "fill": {
              "color": "#C8D4E3"
             },
             "line": {
              "color": "white"
             }
            },
            "type": "table"
           }
          ]
         },
         "layout": {
          "annotationdefaults": {
           "arrowcolor": "#2a3f5f",
           "arrowhead": 0,
           "arrowwidth": 1
          },
          "autotypenumbers": "strict",
          "coloraxis": {
           "colorbar": {
            "outlinewidth": 0,
            "ticks": ""
           }
          },
          "colorscale": {
           "diverging": [
            [
             0,
             "#8e0152"
            ],
            [
             0.1,
             "#c51b7d"
            ],
            [
             0.2,
             "#de77ae"
            ],
            [
             0.3,
             "#f1b6da"
            ],
            [
             0.4,
             "#fde0ef"
            ],
            [
             0.5,
             "#f7f7f7"
            ],
            [
             0.6,
             "#e6f5d0"
            ],
            [
             0.7,
             "#b8e186"
            ],
            [
             0.8,
             "#7fbc41"
            ],
            [
             0.9,
             "#4d9221"
            ],
            [
             1,
             "#276419"
            ]
           ],
           "sequential": [
            [
             0,
             "#0d0887"
            ],
            [
             0.1111111111111111,
             "#46039f"
            ],
            [
             0.2222222222222222,
             "#7201a8"
            ],
            [
             0.3333333333333333,
             "#9c179e"
            ],
            [
             0.4444444444444444,
             "#bd3786"
            ],
            [
             0.5555555555555556,
             "#d8576b"
            ],
            [
             0.6666666666666666,
             "#ed7953"
            ],
            [
             0.7777777777777778,
             "#fb9f3a"
            ],
            [
             0.8888888888888888,
             "#fdca26"
            ],
            [
             1,
             "#f0f921"
            ]
           ],
           "sequentialminus": [
            [
             0,
             "#0d0887"
            ],
            [
             0.1111111111111111,
             "#46039f"
            ],
            [
             0.2222222222222222,
             "#7201a8"
            ],
            [
             0.3333333333333333,
             "#9c179e"
            ],
            [
             0.4444444444444444,
             "#bd3786"
            ],
            [
             0.5555555555555556,
             "#d8576b"
            ],
            [
             0.6666666666666666,
             "#ed7953"
            ],
            [
             0.7777777777777778,
             "#fb9f3a"
            ],
            [
             0.8888888888888888,
             "#fdca26"
            ],
            [
             1,
             "#f0f921"
            ]
           ]
          },
          "colorway": [
           "#636efa",
           "#EF553B",
           "#00cc96",
           "#ab63fa",
           "#FFA15A",
           "#19d3f3",
           "#FF6692",
           "#B6E880",
           "#FF97FF",
           "#FECB52"
          ],
          "font": {
           "color": "#2a3f5f"
          },
          "geo": {
           "bgcolor": "white",
           "lakecolor": "white",
           "landcolor": "#E5ECF6",
           "showlakes": true,
           "showland": true,
           "subunitcolor": "white"
          },
          "hoverlabel": {
           "align": "left"
          },
          "hovermode": "closest",
          "mapbox": {
           "style": "light"
          },
          "paper_bgcolor": "white",
          "plot_bgcolor": "#E5ECF6",
          "polar": {
           "angularaxis": {
            "gridcolor": "white",
            "linecolor": "white",
            "ticks": ""
           },
           "bgcolor": "#E5ECF6",
           "radialaxis": {
            "gridcolor": "white",
            "linecolor": "white",
            "ticks": ""
           }
          },
          "scene": {
           "xaxis": {
            "backgroundcolor": "#E5ECF6",
            "gridcolor": "white",
            "gridwidth": 2,
            "linecolor": "white",
            "showbackground": true,
            "ticks": "",
            "zerolinecolor": "white"
           },
           "yaxis": {
            "backgroundcolor": "#E5ECF6",
            "gridcolor": "white",
            "gridwidth": 2,
            "linecolor": "white",
            "showbackground": true,
            "ticks": "",
            "zerolinecolor": "white"
           },
           "zaxis": {
            "backgroundcolor": "#E5ECF6",
            "gridcolor": "white",
            "gridwidth": 2,
            "linecolor": "white",
            "showbackground": true,
            "ticks": "",
            "zerolinecolor": "white"
           }
          },
          "shapedefaults": {
           "line": {
            "color": "#2a3f5f"
           }
          },
          "ternary": {
           "aaxis": {
            "gridcolor": "white",
            "linecolor": "white",
            "ticks": ""
           },
           "baxis": {
            "gridcolor": "white",
            "linecolor": "white",
            "ticks": ""
           },
           "bgcolor": "#E5ECF6",
           "caxis": {
            "gridcolor": "white",
            "linecolor": "white",
            "ticks": ""
           }
          },
          "title": {
           "x": 0.05
          },
          "xaxis": {
           "automargin": true,
           "gridcolor": "white",
           "linecolor": "white",
           "ticks": "",
           "title": {
            "standoff": 15
           },
           "zerolinecolor": "white",
           "zerolinewidth": 2
          },
          "yaxis": {
           "automargin": true,
           "gridcolor": "white",
           "linecolor": "white",
           "ticks": "",
           "title": {
            "standoff": 15
           },
           "zerolinecolor": "white",
           "zerolinewidth": 2
          }
         }
        },
        "ternary": {
         "aaxis": {
          "title": {
           "text": "Share of Total Team Touches"
          }
         },
         "baxis": {
          "title": {
           "text": "Progressive Actions"
          }
         },
         "caxis": {
          "title": {
           "text": "% of Defensive Actions in Middle 3rd"
          }
         },
         "domain": {
          "x": [
           0,
           1
          ],
          "y": [
           0,
           1
          ]
         }
        },
        "title": {
         "text": "Triangular Play Style Plot: Defenders"
        }
       }
      },
      "text/html": [
       "<div>                            <div id=\"771dd444-3fb2-4df5-add2-3af370a0046d\" class=\"plotly-graph-div\" style=\"height:525px; width:100%;\"></div>            <script type=\"text/javascript\">                require([\"plotly\"], function(Plotly) {                    window.PLOTLYENV=window.PLOTLYENV || {};                                    if (document.getElementById(\"771dd444-3fb2-4df5-add2-3af370a0046d\")) {                    Plotly.newPlot(                        \"771dd444-3fb2-4df5-add2-3af370a0046d\",                        [{\"a\":[0.577303370786517,0.8665168539325843,0.3659550561797753,0.5550561797752809,0.08786516853932584,0.19910112359550564,0.14348314606741575,0.7997752808988765,0.02112359550561798,0.6996629213483146,0.35483146067415733,0.6329213483146068,0.4104494382022472,0.5661797752808989,0.13235955056179777,0.9777528089887642,0.521685393258427,0.8331460674157304,0.7997752808988765,0.49943820224719104,0.6996629213483146,0.29921348314606744,0.39932584269662924,0.577303370786517,0.8220224719101124,0.4326966292134832,0.29921348314606744,0.2769662921348315,0.532808988764045,0.5995505617977528,0.9666292134831461,0.7107865168539327,0.8553932584269663,0.6551685393258427,0.49943820224719104,0.9221348314606742,0.29921348314606744,0.9332584269662922,0.5995505617977528,0.8553932584269663,0.9888764044943821,0.24359550561797755,0.543932584269663,0.6662921348314608,0.1101123595505618,0.6885393258426966,0.06561797752808989,0.521685393258427,0.7664044943820225,0.18797752808988766,0.8553932584269663,0.38820224719101126,0.39932584269662924,0.7664044943820225,0.7441573033707866,0.2658426966292135,0.1101123595505618,0.5884269662921349,0.9888764044943821,0.4215730337078652,0.4771910112359551,0.7107865168539327,0.4104494382022472,0.4771910112359551,0.2769662921348315,0.5884269662921349,0.01,0.8776404494382023,0.9110112359550562,0.7219101123595506,0.8998876404494383,0.3659550561797753,0.6329213483146068,0.03224719101123596,0.3325842696629214,0.12123595505617978,0.5995505617977528,0.7107865168539327,0.38820224719101126,0.3103370786516854,0.543932584269663,0.02112359550561798,0.15460674157303372,0.7219101123595506,0.4215730337078652,0.03224719101123596,0.06561797752808989,0.2213483146067416,0.9666292134831461,0.6774157303370787,0.6217977528089889,0.9777528089887642,0.5995505617977528,0.7997752808988765,0.3770786516853933,0.2102247191011236,0.12123595505617978,0.13235955056179777,0.6662921348314608,0.35483146067415733,0.23247191011235957,0.3770786516853933,0.7552808988764046,0.8887640449438203,0.9777528089887642,0.45494382022471913,0.532808988764045,0.8553932584269663,0.2102247191011236,0.6217977528089889,0.14348314606741575,0.17685393258426968,0.01,0.9110112359550562,0.9332584269662922,0.7775280898876404,0.6774157303370787,0.08786516853932584,0.8331460674157304,0.09898876404494382,0.18797752808988766,0.510561797752809,0.15460674157303372,0.043370786516853936,0.23247191011235957,0.7552808988764046,0.49943820224719104,0.9332584269662922,0.4660674157303371,0.09898876404494382,0.9221348314606742,0.9221348314606742,0.44382022471910115,0.6440449438202247,0.09898876404494382,0.9443820224719102,0.9888764044943821,0.9110112359550562,0.2658426966292135,0.8220224719101124,0.9555056179775281,0.7441573033707866,0.8998876404494383,0.7219101123595506,0.4771910112359551,0.7552808988764046,0.6885393258426966,0.054494382022471914,0.3770786516853933,0.510561797752809,0.7997752808988765,0.6996629213483146,0.39932584269662924,0.07674157303370786,0.28808988764044946,0.7775280898876404,0.8887640449438203,1.0,0.03224719101123596,1.0,0.043370786516853936,0.1657303370786517,0.543932584269663,0.01,0.577303370786517,0.7886516853932585,0.7886516853932585,0.8331460674157304,0.7886516853932585,0.14348314606741575,0.19910112359550564,0.07674157303370786,0.4660674157303371,0.44382022471910115,0.4215730337078652,0.2769662921348315,0.9555056179775281,0.5661797752808989,0.8331460674157304,0.8331460674157304,0.4215730337078652,0.6217977528089889,0.532808988764045,0.7330337078651685,0.12123595505617978,0.49943820224719104,0.1657303370786517,0.7775280898876404,0.5995505617977528,0.1657303370786517,0.8108988764044944,0.2547191011235955,0.24359550561797755,0.043370786516853936,0.1101123595505618,0.4771910112359551,0.9666292134831461,0.34370786516853935,0.06561797752808989,0.3659550561797753,0.4104494382022472,0.9332584269662922,0.5995505617977528,0.4771910112359551,0.3214606741573034,0.6662921348314608,0.34370786516853935,0.6329213483146068,1.0,0.043370786516853936,0.3325842696629214,0.34370786516853935,0.17685393258426968,0.3103370786516854,0.7441573033707866,0.5550561797752809,0.6551685393258427,0.3325842696629214,0.44382022471910115,0.8331460674157304,0.02112359550561798,0.2769662921348315,0.08786516853932584,0.7330337078651685,0.14348314606741575,0.054494382022471914,0.9555056179775281,0.2547191011235955,0.29921348314606744,0.8776404494382023,0.3325842696629214,0.23247191011235957,0.6551685393258427,0.4215730337078652,0.28808988764044946,0.1657303370786517,0.6774157303370787,0.8998876404494383,0.2102247191011236,0.45494382022471913,0.18797752808988766,0.7330337078651685,0.4771910112359551,0.2658426966292135,0.6440449438202247,0.5550561797752809,0.23247191011235957,0.3214606741573034,0.4660674157303371,0.2213483146067416,0.5884269662921349,0.8108988764044944,0.8665168539325843,0.2213483146067416,0.8887640449438203],\"b\":[0.8400000000000001,0.55,0.02,0.38,0.12,0.5800000000000001,0.51,0.93,0.060000000000000005,0.8200000000000001,0.08,0.67,0.3,0.76,0.36000000000000004,0.32,0.45,0.91,0.61,0.76,0.61,0.5800000000000001,0.23,0.14,0.49,0.2,0.34,0.39,0.11,0.26,0.89,0.08,0.6,0.060000000000000005,0.68,0.63,0.53,0.8400000000000001,0.56,0.78,0.5800000000000001,0.92,0.26,0.87,0.54,0.6,0.39,0.15000000000000002,0.74,0.49,0.73,0.35000000000000003,0.3,0.86,0.91,0.35000000000000003,0.01,0.36000000000000004,0.8,0.54,0.65,0.5,0.9600000000000001,0.59,0.09999999999999999,0.9,0.04,0.53,0.54,0.98,0.99,0.7100000000000001,0.73,0.21000000000000002,0.8300000000000001,0.24000000000000002,0.88,0.81,0.09999999999999999,0.8400000000000001,0.7000000000000001,0.01,0.5,0.45,0.86,0.85,0.52,0.06999999999999999,0.19,0.6900000000000001,0.99,1.0,0.93,0.99,0.75,0.46,0.09,0.3,0.75,0.93,0.06999999999999999,0.29000000000000004,0.88,0.15000000000000002,0.9600000000000001,0.27,0.97,0.9500000000000001,0.42000000000000004,0.63,0.11,0.4,0.01,0.87,0.9500000000000001,0.33,0.22,0.03,0.74,0.19,0.3,0.45,0.52,0.02,0.67,0.8,0.64,0.8300000000000001,0.62,0.17,1.0,1.0,0.44,0.55,0.09999999999999999,0.9,0.42000000000000004,0.66,0.15000000000000002,0.19,0.7100000000000001,0.33,0.21000000000000002,0.37,0.49,0.37,0.5,0.16,0.09,0.17,0.38,0.92,0.25,0.34,0.6900000000000001,0.46,0.65,0.88,0.12,0.91,0.28,0.24000000000000002,0.62,0.05,0.25,0.79,0.79,0.5700000000000001,0.38,0.14,0.04,0.5700000000000001,0.78,0.52,0.23,0.13,0.97,0.3,0.47000000000000003,0.47000000000000003,0.28,0.27,0.7100000000000001,0.2,0.17,0.77,0.08,0.48000000000000004,0.78,0.4,0.7000000000000001,0.04,0.39,0.05,0.21000000000000002,0.8400000000000001,0.8200000000000001,0.34,0.03,0.5800000000000001,0.65,0.89,0.86,0.16,0.89,0.25,0.72,0.9500000000000001,0.97,0.41000000000000003,0.56,0.67,0.41000000000000003,0.98,0.8200000000000001,0.4,0.13,0.02,0.56,0.64,0.79,0.36000000000000004,0.12,0.76,0.13,0.25,0.72,0.18000000000000002,0.51,0.73,0.62,0.43,0.28,0.28,0.47000000000000003,0.060000000000000005,0.18000000000000002,0.9400000000000001,0.6,0.32,0.75,0.65,0.67,0.43,0.77,0.22,0.43,0.48000000000000004,0.63,0.44,0.22,0.68,0.9400000000000001,0.32,0.81],\"c\":[0.21000000000000002,0.86,0.27,0.17,0.55,0.25,0.6,0.73,0.54,0.48000000000000004,0.5700000000000001,0.46,0.36000000000000004,0.34,0.11,0.99,0.92,0.7100000000000001,0.6,0.4,0.45,0.12,0.31,0.6900000000000001,0.97,0.88,0.76,0.88,0.43,0.39,0.75,0.92,0.9400000000000001,0.7000000000000001,0.23,0.47000000000000003,0.47000000000000003,0.67,0.8400000000000001,0.41000000000000003,0.87,0.38,0.8300000000000001,0.62,0.29000000000000004,0.65,0.19,0.68,0.56,0.38,0.41000000000000003,0.81,0.41000000000000003,0.14,0.2,0.05,0.08,0.45,0.86,0.97,0.8,0.74,0.5800000000000001,0.54,0.7100000000000001,0.09,0.37,0.51,0.75,0.77,0.54,0.5,0.22,0.6900000000000001,0.72,0.8400000000000001,0.11,0.32,0.16,0.5800000000000001,0.35000000000000003,0.64,0.5700000000000001,0.51,0.060000000000000005,0.01,0.13,0.64,0.46,0.75,0.8200000000000001,0.9500000000000001,0.99,1.0,0.08,0.85,0.67,0.43,0.17,0.2,0.05,0.93,0.97,0.66,0.89,1.0,0.98,0.8300000000000001,0.44,0.08,0.3,0.44,0.52,0.02,0.17,0.7000000000000001,0.52,0.53,0.26,0.03,0.59,0.9500000000000001,0.13,0.19,0.09999999999999999,0.35000000000000003,0.88,0.99,0.15000000000000002,0.27,0.65,0.65,0.32,0.31,0.63,0.76,0.9600000000000001,0.76,0.09999999999999999,0.33,0.77,0.8,0.9500000000000001,0.86,0.02,0.56,0.18000000000000002,0.04,0.18000000000000002,0.3,0.87,0.36000000000000004,0.89,0.66,0.01,0.19,0.28,0.93,0.73,0.24000000000000002,0.48000000000000004,0.45,0.060000000000000005,0.42000000000000004,0.6900000000000001,0.28,0.28,0.74,0.39,0.06999999999999999,0.12,0.01,0.3,0.06999999999999999,0.29000000000000004,0.56,0.16,0.8,0.5,0.5,0.79,0.09999999999999999,0.34,0.37,0.21000000000000002,0.61,0.63,0.98,0.78,0.68,0.13,0.49,0.49,0.47000000000000003,0.36000000000000004,0.04,0.49,0.21000000000000002,0.32,0.9,0.78,0.9400000000000001,0.62,0.34,0.26,0.72,0.09,0.93,0.8200000000000001,0.02,0.52,0.15000000000000002,0.6,0.55,0.25,0.62,0.79,0.61,0.33,0.67,0.12,0.9,0.63,0.42000000000000004,0.7100000000000001,0.26,0.53,0.14,0.060000000000000005,0.43,0.03,0.8400000000000001,0.81,0.22,0.04,0.15000000000000002,0.89,0.91,0.25,0.8200000000000001,0.23,1.0,0.9600000000000001,0.24000000000000002,0.38,0.85,0.59,0.4,0.39,0.23,0.91,0.5800000000000001,0.73,0.91,0.78],\"hovertemplate\":\"<b>%{hovertext}</b><br><br>Share of Total Team Touches=%{a}<br>Progressive Actions=%{marker.size}<br>% of Defensive Actions in Middle 3rd=%{c}<br>cluster=%{marker.color}<extra></extra>\",\"hovertext\":[\"Max Aarons\",\"Ben Gibson\",\"Grant Hanley\",\"Yunis Abdelhamid\",\"Wout Faes\",\"Thomas Foket\",\"Andrew Gravillon\",\"Ghislain Konan\",\"C\\u00e9dric Hountondji\",\"Vital N'Simba\",\"Florent Ogier\",\"Akim Zedadka\",\"Julien Laporte\",\"Vincent Le Goff\",\"Houboulang Mendes\",\"Nayef Aguerd\",\"Warmed Omari\",\"Hamari Traor\\u00e9\",\"Roger Ibanez\",\"Rick Karsdorp\",\"Gianluca Mancini\",\"Mat\\u00edas Vi\\u00f1a\",\"Carlos Neva\",\"Germ\\u00e1n S\\u00e1nchez\",\"Francesco Acerbi\",\"Luiz Felipe\",\"Elseid Hysaj\",\"Adam Maru\\u0161i\\u0107\",\"Martin Hinteregger\",\"Obite N'Dicka\",\"Marcos Acu\\u00f1a\",\"Diego Carlos\",\"Jules Kound\\u00e9\",\"Jan Bednarek\",\"Valentino Livramento\",\"Mohammed Salisu\",\"Angeli\\u00f1o\",\"Jo\\u0161ko Gvardiol\",\"Willi Orban\",\"David Raum\",\"Kevin Vogt\",\"Jeremie Frimpong\",\"Jonathan Tah\",\"Enock Kwateng\",\"Ricardo Mangas\",\"Lorenzo De Silvestri\",\"Aaron Hickey\",\"Gary Medel\",\"Arthur Theate\",\"Mikel Balenziaga\",\"I\\u00f1igo Lekue\",\"I\\u00f1igo Mart\\u00ednez\",\"Brendan Chardonnet\",\"Jean-Kevin Duverne\",\"Rona\\u00ebl Pierre-Gabriel\",\"Kelvin Amian\",\"Martin Erlic\",\"Dimitris Nikolaou\",\"Jordi Alba\",\"Gerard Piqu\\u00e9\",\"Axel Disasi\",\"Guillermo Marip\\u00e1n\",\"Caio Henrique Oliveira Silva\",\"Iv\\u00e1n Balliu\",\"Catena\",\"Francisco Garcia\",\"Esteban Saveljich\",\"Waldemar Anton\",\"Konstantinos Mavropanos\",\"Borna Sosa\",\"Anthony Caci\",\"Alexander Djiku\",\"Frederic Guilbert\",\"Gerzino Nyamsi\",\"Lucas Perrin\",\"N\\u00e9stor Araujo\",\"Javi Gal\\u00e1n\",\"Hugo Mallo\",\"Gleison Bremer\",\"Ricardo Rodr\\u00edguez\",\"Wilfried Singo\",\"Conor Coady\",\"Max Kilman\",\"Romain Sa\\u00efss\",\"N\\u00e9lson Semedo\",\"Sergi Can\\u00f3s\",\"Rico Henry\",\"Pontus Jansson\",\"Ethan Pinnock\",\"Manuel Akanji\",\"Thomas Meunier\",\"Jo\\u00e3o Cancelo\",\"R\\u00faben Dias\",\"Aymeric Laporte\",\"\\u00c1lex Moreno\",\"David Alaba\",\"\\u00c9der Milit\\u00e3o\",\"Dylan Bronn\",\"Fabien Centonze\",\"Thomas Delaine\",\"Boubakar Kouyat\\u00e9\",\"Ra\\u00fal Albiol\",\"Pau Torres\",\"\\u00c7a\\u011flar S\\u00f6y\\u00fcnc\\u00fc\",\"Trent Alexander-Arnold\",\"Virgil van Dijk\",\"Jo\\u00ebl Matip\",\"Andrew Robertson\",\"Omar Alderete\",\"Jos\\u00e9 Luis Gay\\u00e0\",\"Jorge Cuenca\",\"Djen\\u00e9\",\"Stefan Mitrovi\\u0107\",\"Math\\u00edas Olivera\",\"Jimmy Cabot\",\"Vincent Manceau\",\"Romain Thomas\",\"Isma\\u00ebl Traor\\u00e9\",\"S\\u00e9amus Coleman\",\"Ben Godfrey\",\"Michael Keane\",\"Eric Dier\",\"Sergio Reguil\\u00f3n\",\"Jamaal Lascelles\",\"Marcos Alonso\",\"C\\u00e9sar Azpilicueta\",\"Antonio R\\u00fcdiger\",\"Thiago Silva\",\"Andrea Carboni\",\"Charalambos Lykogiannis\",\"Marc Cucurella\",\"Marc Cucurella\",\"Jo\\u00ebl Veltman\",\"Pablo Maffeo\",\"Martin Valjent\",\"Melvin Bard\",\"Dante\",\"Jean-Clair Todibo\",\"Mattia Caldara\",\"Pietro Ceccaroni\",\"Cristiano Biraghi\",\"Nikola Milenkovi\\u0107\",\"Joachim Andersen\",\"Marc Gu\\u00e9hi\",\"Tyrick Mitchell\",\"Joel Ward\",\"C\\u00e9dric Brunner\",\"Joakim Nilsson\",\"Amos Pieper\",\"Niklas Stark\",\"Sven Botman\",\"Zeki \\u00c7elik\",\"Jos\\u00e9 Fonte\",\"David Garc\\u00eda\",\"Manuel S\\u00e1nchez\",\"Nacho Vidal\",\"Vladim\\u00edr Coufal\",\"Aaron Cresswell\",\"Craig Dawson\",\"Danilo Soares\",\"Jean-Charles Castelletto\",\"Nicolas Pallois\",\"Matty Cash\",\"Ezri Konsa\",\"Tyrone Mings\",\"Matt Targett\",\"Matt Targett\",\"John Brooks\",\"Maxence Lacroix\",\"Rodrigo Bec\\u00e3o\",\"Bram Nuytinck\",\"Iyenoma Udogie\",\"Tommaso Augello\",\"Bartosz Bereszy\\u0144ski\",\"Omar Colley\",\"Maya Yoshida\",\"Petar Stojanovi\\u0107\",\"Gabriel Dos Santos\",\"Takehiro Tomiyasu\",\"Takehiro Tomiyasu\",\"Ben White\",\"Timo Baumgartl\",\"Niko Gie\\u00dfelmann\",\"Robin Knoche\",\"Norbert Gy\\u00f6mb\\u00e9r\",\"Luca Ranieri\",\"Vlad Chiriche\\u0219\",\"Gian Marco Ferrari\",\"Rog\\u00e9rio\",\"Jeremy Toljan\",\"Giulian Biancone\",\"Jimmy Giraudon\",\"Yoann Salmier\",\"Craig Cathcart\",\"William Troost-Ekong\",\"Andrea Cambiaso\",\"Johan Mojica\",\"Helibelton Palacios\",\"Enzo Roco\",\"Harry Maguire\",\"Luan Peres Petroni\",\"William Saliba\",\"Theo Hern\\u00e1ndez\",\"Fikayo Tomori\",\"Jonathan Clauss\",\"Kevin Danso\",\"Przemys\\u0142aw Frankowski\",\"Jonathan Gradit\",\"Facundo Medina\",\"Nicol\\u00f2 Casale\",\"Federico Ceccherini\",\"Davide Faraoni\",\"Koray G\\u00fcnter\",\"Darko Lazovi\\u0107\",\"Carlos Clerc\",\"R\\u00faben Vezo\",\"Leandro Cabrera\",\"Sergi G\\u00f3mez\",\"Pedrosa\",\"Alessandro Bastoni\",\"Ivan Peri\\u0161i\\u0107\",\"Milan \\u0160kriniar\",\"Stefan de Vrij\",\"Matthew Lowton\",\"Ben Mee\",\"James Tarkowski\",\"Charlie Taylor\",\"Stefan Bell\",\"Aar\\u00f3n Mart\\u00edn\",\"Moussa Niakhate\",\"Silvan Widmer\",\"Aritz Elustondo\",\"Robin Le Normand\",\"Jeffrey Gouweleeuw\",\"Robert Gumny\",\"Reece Oxford\",\"Nico Elvedi\",\"Matthias Ginter\",\"Joseph Scally\",\"Matthijs de Ligt\",\"Achraf Hakimi\",\"Presnel Kimpembe\",\"Marquinhos\",\"Nicolas Cozza\",\"Mihailo Risti\\u0107\",\"Mamadou Sakho\",\"Berat Djimsiti\",\"Jos\\u00e9 Luis Palomino\",\"Christian G\\u00fcnter\",\"Lukas K\\u00fcbler\",\"Philipp Lienhart\",\"Nico Schlotterbeck\",\"Giovanni Di Lorenzo\",\"Amir Rrahmani\",\"M\\u00e1rio Rui\"],\"legendgroup\":\"\",\"marker\":{\"color\":[1,2,0,0,0,1,0,1,0,1,0,1,0,1,0,2,2,1,2,1,2,1,0,2,2,2,0,0,0,0,1,2,2,2,1,2,1,1,2,1,2,1,2,1,0,1,0,2,1,0,1,2,0,1,1,0,0,2,1,2,2,2,1,1,0,1,0,2,2,1,1,1,1,0,1,0,1,1,0,1,1,0,0,2,1,1,0,0,2,2,1,1,2,2,1,2,0,0,1,1,0,2,2,2,1,2,2,1,0,1,0,0,0,1,1,2,2,0,1,0,0,2,0,0,1,1,2,2,1,0,1,1,0,1,0,1,2,2,0,2,1,2,2,2,1,2,1,0,0,0,2,1,2,0,1,1,1,1,0,1,0,0,1,0,2,1,1,2,2,0,0,1,1,1,0,0,1,2,1,1,2,0,1,2,0,1,0,2,1,0,1,0,0,0,0,1,1,0,0,2,1,2,1,0,1,2,1,2,2,0,0,1,0,1,1,2,2,0,1,2,1,2,0,1,0,0,1,0,1,1,1,2,2,0,0,0,2,2,1,2,1,2,2,0,1,2,0,0,1,0,2,2,1,2,1],\"coloraxis\":\"coloraxis\",\"size\":[0.8400000000000001,0.55,0.02,0.38,0.12,0.5800000000000001,0.51,0.93,0.060000000000000005,0.8200000000000001,0.08,0.67,0.3,0.76,0.36000000000000004,0.32,0.45,0.91,0.61,0.76,0.61,0.5800000000000001,0.23,0.14,0.49,0.2,0.34,0.39,0.11,0.26,0.89,0.08,0.6,0.060000000000000005,0.68,0.63,0.53,0.8400000000000001,0.56,0.78,0.5800000000000001,0.92,0.26,0.87,0.54,0.6,0.39,0.15000000000000002,0.74,0.49,0.73,0.35000000000000003,0.3,0.86,0.91,0.35000000000000003,0.01,0.36000000000000004,0.8,0.54,0.65,0.5,0.9600000000000001,0.59,0.09999999999999999,0.9,0.04,0.53,0.54,0.98,0.99,0.7100000000000001,0.73,0.21000000000000002,0.8300000000000001,0.24000000000000002,0.88,0.81,0.09999999999999999,0.8400000000000001,0.7000000000000001,0.01,0.5,0.45,0.86,0.85,0.52,0.06999999999999999,0.19,0.6900000000000001,0.99,1.0,0.93,0.99,0.75,0.46,0.09,0.3,0.75,0.93,0.06999999999999999,0.29000000000000004,0.88,0.15000000000000002,0.9600000000000001,0.27,0.97,0.9500000000000001,0.42000000000000004,0.63,0.11,0.4,0.01,0.87,0.9500000000000001,0.33,0.22,0.03,0.74,0.19,0.3,0.45,0.52,0.02,0.67,0.8,0.64,0.8300000000000001,0.62,0.17,1.0,1.0,0.44,0.55,0.09999999999999999,0.9,0.42000000000000004,0.66,0.15000000000000002,0.19,0.7100000000000001,0.33,0.21000000000000002,0.37,0.49,0.37,0.5,0.16,0.09,0.17,0.38,0.92,0.25,0.34,0.6900000000000001,0.46,0.65,0.88,0.12,0.91,0.28,0.24000000000000002,0.62,0.05,0.25,0.79,0.79,0.5700000000000001,0.38,0.14,0.04,0.5700000000000001,0.78,0.52,0.23,0.13,0.97,0.3,0.47000000000000003,0.47000000000000003,0.28,0.27,0.7100000000000001,0.2,0.17,0.77,0.08,0.48000000000000004,0.78,0.4,0.7000000000000001,0.04,0.39,0.05,0.21000000000000002,0.8400000000000001,0.8200000000000001,0.34,0.03,0.5800000000000001,0.65,0.89,0.86,0.16,0.89,0.25,0.72,0.9500000000000001,0.97,0.41000000000000003,0.56,0.67,0.41000000000000003,0.98,0.8200000000000001,0.4,0.13,0.02,0.56,0.64,0.79,0.36000000000000004,0.12,0.76,0.13,0.25,0.72,0.18000000000000002,0.51,0.73,0.62,0.43,0.28,0.28,0.47000000000000003,0.060000000000000005,0.18000000000000002,0.9400000000000001,0.6,0.32,0.75,0.65,0.67,0.43,0.77,0.22,0.43,0.48000000000000004,0.63,0.44,0.22,0.68,0.9400000000000001,0.32,0.81],\"sizemode\":\"area\",\"sizeref\":0.0044444444444444444,\"symbol\":\"circle\"},\"mode\":\"markers\",\"name\":\"\",\"showlegend\":false,\"subplot\":\"ternary\",\"type\":\"scatterternary\"}],                        {\"coloraxis\":{\"colorbar\":{\"title\":{\"text\":\"cluster\"}},\"colorscale\":[[0.0,\"#0d0887\"],[0.1111111111111111,\"#46039f\"],[0.2222222222222222,\"#7201a8\"],[0.3333333333333333,\"#9c179e\"],[0.4444444444444444,\"#bd3786\"],[0.5555555555555556,\"#d8576b\"],[0.6666666666666666,\"#ed7953\"],[0.7777777777777778,\"#fb9f3a\"],[0.8888888888888888,\"#fdca26\"],[1.0,\"#f0f921\"]]},\"legend\":{\"itemsizing\":\"constant\",\"tracegroupgap\":0},\"template\":{\"data\":{\"bar\":[{\"error_x\":{\"color\":\"#2a3f5f\"},\"error_y\":{\"color\":\"#2a3f5f\"},\"marker\":{\"line\":{\"color\":\"#E5ECF6\",\"width\":0.5},\"pattern\":{\"fillmode\":\"overlay\",\"size\":10,\"solidity\":0.2}},\"type\":\"bar\"}],\"barpolar\":[{\"marker\":{\"line\":{\"color\":\"#E5ECF6\",\"width\":0.5},\"pattern\":{\"fillmode\":\"overlay\",\"size\":10,\"solidity\":0.2}},\"type\":\"barpolar\"}],\"carpet\":[{\"aaxis\":{\"endlinecolor\":\"#2a3f5f\",\"gridcolor\":\"white\",\"linecolor\":\"white\",\"minorgridcolor\":\"white\",\"startlinecolor\":\"#2a3f5f\"},\"baxis\":{\"endlinecolor\":\"#2a3f5f\",\"gridcolor\":\"white\",\"linecolor\":\"white\",\"minorgridcolor\":\"white\",\"startlinecolor\":\"#2a3f5f\"},\"type\":\"carpet\"}],\"choropleth\":[{\"colorbar\":{\"outlinewidth\":0,\"ticks\":\"\"},\"type\":\"choropleth\"}],\"contour\":[{\"colorbar\":{\"outlinewidth\":0,\"ticks\":\"\"},\"colorscale\":[[0.0,\"#0d0887\"],[0.1111111111111111,\"#46039f\"],[0.2222222222222222,\"#7201a8\"],[0.3333333333333333,\"#9c179e\"],[0.4444444444444444,\"#bd3786\"],[0.5555555555555556,\"#d8576b\"],[0.6666666666666666,\"#ed7953\"],[0.7777777777777778,\"#fb9f3a\"],[0.8888888888888888,\"#fdca26\"],[1.0,\"#f0f921\"]],\"type\":\"contour\"}],\"contourcarpet\":[{\"colorbar\":{\"outlinewidth\":0,\"ticks\":\"\"},\"type\":\"contourcarpet\"}],\"heatmap\":[{\"colorbar\":{\"outlinewidth\":0,\"ticks\":\"\"},\"colorscale\":[[0.0,\"#0d0887\"],[0.1111111111111111,\"#46039f\"],[0.2222222222222222,\"#7201a8\"],[0.3333333333333333,\"#9c179e\"],[0.4444444444444444,\"#bd3786\"],[0.5555555555555556,\"#d8576b\"],[0.6666666666666666,\"#ed7953\"],[0.7777777777777778,\"#fb9f3a\"],[0.8888888888888888,\"#fdca26\"],[1.0,\"#f0f921\"]],\"type\":\"heatmap\"}],\"heatmapgl\":[{\"colorbar\":{\"outlinewidth\":0,\"ticks\":\"\"},\"colorscale\":[[0.0,\"#0d0887\"],[0.1111111111111111,\"#46039f\"],[0.2222222222222222,\"#7201a8\"],[0.3333333333333333,\"#9c179e\"],[0.4444444444444444,\"#bd3786\"],[0.5555555555555556,\"#d8576b\"],[0.6666666666666666,\"#ed7953\"],[0.7777777777777778,\"#fb9f3a\"],[0.8888888888888888,\"#fdca26\"],[1.0,\"#f0f921\"]],\"type\":\"heatmapgl\"}],\"histogram\":[{\"marker\":{\"pattern\":{\"fillmode\":\"overlay\",\"size\":10,\"solidity\":0.2}},\"type\":\"histogram\"}],\"histogram2d\":[{\"colorbar\":{\"outlinewidth\":0,\"ticks\":\"\"},\"colorscale\":[[0.0,\"#0d0887\"],[0.1111111111111111,\"#46039f\"],[0.2222222222222222,\"#7201a8\"],[0.3333333333333333,\"#9c179e\"],[0.4444444444444444,\"#bd3786\"],[0.5555555555555556,\"#d8576b\"],[0.6666666666666666,\"#ed7953\"],[0.7777777777777778,\"#fb9f3a\"],[0.8888888888888888,\"#fdca26\"],[1.0,\"#f0f921\"]],\"type\":\"histogram2d\"}],\"histogram2dcontour\":[{\"colorbar\":{\"outlinewidth\":0,\"ticks\":\"\"},\"colorscale\":[[0.0,\"#0d0887\"],[0.1111111111111111,\"#46039f\"],[0.2222222222222222,\"#7201a8\"],[0.3333333333333333,\"#9c179e\"],[0.4444444444444444,\"#bd3786\"],[0.5555555555555556,\"#d8576b\"],[0.6666666666666666,\"#ed7953\"],[0.7777777777777778,\"#fb9f3a\"],[0.8888888888888888,\"#fdca26\"],[1.0,\"#f0f921\"]],\"type\":\"histogram2dcontour\"}],\"mesh3d\":[{\"colorbar\":{\"outlinewidth\":0,\"ticks\":\"\"},\"type\":\"mesh3d\"}],\"parcoords\":[{\"line\":{\"colorbar\":{\"outlinewidth\":0,\"ticks\":\"\"}},\"type\":\"parcoords\"}],\"pie\":[{\"automargin\":true,\"type\":\"pie\"}],\"scatter\":[{\"marker\":{\"colorbar\":{\"outlinewidth\":0,\"ticks\":\"\"}},\"type\":\"scatter\"}],\"scatter3d\":[{\"line\":{\"colorbar\":{\"outlinewidth\":0,\"ticks\":\"\"}},\"marker\":{\"colorbar\":{\"outlinewidth\":0,\"ticks\":\"\"}},\"type\":\"scatter3d\"}],\"scattercarpet\":[{\"marker\":{\"colorbar\":{\"outlinewidth\":0,\"ticks\":\"\"}},\"type\":\"scattercarpet\"}],\"scattergeo\":[{\"marker\":{\"colorbar\":{\"outlinewidth\":0,\"ticks\":\"\"}},\"type\":\"scattergeo\"}],\"scattergl\":[{\"marker\":{\"colorbar\":{\"outlinewidth\":0,\"ticks\":\"\"}},\"type\":\"scattergl\"}],\"scattermapbox\":[{\"marker\":{\"colorbar\":{\"outlinewidth\":0,\"ticks\":\"\"}},\"type\":\"scattermapbox\"}],\"scatterpolar\":[{\"marker\":{\"colorbar\":{\"outlinewidth\":0,\"ticks\":\"\"}},\"type\":\"scatterpolar\"}],\"scatterpolargl\":[{\"marker\":{\"colorbar\":{\"outlinewidth\":0,\"ticks\":\"\"}},\"type\":\"scatterpolargl\"}],\"scatterternary\":[{\"marker\":{\"colorbar\":{\"outlinewidth\":0,\"ticks\":\"\"}},\"type\":\"scatterternary\"}],\"surface\":[{\"colorbar\":{\"outlinewidth\":0,\"ticks\":\"\"},\"colorscale\":[[0.0,\"#0d0887\"],[0.1111111111111111,\"#46039f\"],[0.2222222222222222,\"#7201a8\"],[0.3333333333333333,\"#9c179e\"],[0.4444444444444444,\"#bd3786\"],[0.5555555555555556,\"#d8576b\"],[0.6666666666666666,\"#ed7953\"],[0.7777777777777778,\"#fb9f3a\"],[0.8888888888888888,\"#fdca26\"],[1.0,\"#f0f921\"]],\"type\":\"surface\"}],\"table\":[{\"cells\":{\"fill\":{\"color\":\"#EBF0F8\"},\"line\":{\"color\":\"white\"}},\"header\":{\"fill\":{\"color\":\"#C8D4E3\"},\"line\":{\"color\":\"white\"}},\"type\":\"table\"}]},\"layout\":{\"annotationdefaults\":{\"arrowcolor\":\"#2a3f5f\",\"arrowhead\":0,\"arrowwidth\":1},\"autotypenumbers\":\"strict\",\"coloraxis\":{\"colorbar\":{\"outlinewidth\":0,\"ticks\":\"\"}},\"colorscale\":{\"diverging\":[[0,\"#8e0152\"],[0.1,\"#c51b7d\"],[0.2,\"#de77ae\"],[0.3,\"#f1b6da\"],[0.4,\"#fde0ef\"],[0.5,\"#f7f7f7\"],[0.6,\"#e6f5d0\"],[0.7,\"#b8e186\"],[0.8,\"#7fbc41\"],[0.9,\"#4d9221\"],[1,\"#276419\"]],\"sequential\":[[0.0,\"#0d0887\"],[0.1111111111111111,\"#46039f\"],[0.2222222222222222,\"#7201a8\"],[0.3333333333333333,\"#9c179e\"],[0.4444444444444444,\"#bd3786\"],[0.5555555555555556,\"#d8576b\"],[0.6666666666666666,\"#ed7953\"],[0.7777777777777778,\"#fb9f3a\"],[0.8888888888888888,\"#fdca26\"],[1.0,\"#f0f921\"]],\"sequentialminus\":[[0.0,\"#0d0887\"],[0.1111111111111111,\"#46039f\"],[0.2222222222222222,\"#7201a8\"],[0.3333333333333333,\"#9c179e\"],[0.4444444444444444,\"#bd3786\"],[0.5555555555555556,\"#d8576b\"],[0.6666666666666666,\"#ed7953\"],[0.7777777777777778,\"#fb9f3a\"],[0.8888888888888888,\"#fdca26\"],[1.0,\"#f0f921\"]]},\"colorway\":[\"#636efa\",\"#EF553B\",\"#00cc96\",\"#ab63fa\",\"#FFA15A\",\"#19d3f3\",\"#FF6692\",\"#B6E880\",\"#FF97FF\",\"#FECB52\"],\"font\":{\"color\":\"#2a3f5f\"},\"geo\":{\"bgcolor\":\"white\",\"lakecolor\":\"white\",\"landcolor\":\"#E5ECF6\",\"showlakes\":true,\"showland\":true,\"subunitcolor\":\"white\"},\"hoverlabel\":{\"align\":\"left\"},\"hovermode\":\"closest\",\"mapbox\":{\"style\":\"light\"},\"paper_bgcolor\":\"white\",\"plot_bgcolor\":\"#E5ECF6\",\"polar\":{\"angularaxis\":{\"gridcolor\":\"white\",\"linecolor\":\"white\",\"ticks\":\"\"},\"bgcolor\":\"#E5ECF6\",\"radialaxis\":{\"gridcolor\":\"white\",\"linecolor\":\"white\",\"ticks\":\"\"}},\"scene\":{\"xaxis\":{\"backgroundcolor\":\"#E5ECF6\",\"gridcolor\":\"white\",\"gridwidth\":2,\"linecolor\":\"white\",\"showbackground\":true,\"ticks\":\"\",\"zerolinecolor\":\"white\"},\"yaxis\":{\"backgroundcolor\":\"#E5ECF6\",\"gridcolor\":\"white\",\"gridwidth\":2,\"linecolor\":\"white\",\"showbackground\":true,\"ticks\":\"\",\"zerolinecolor\":\"white\"},\"zaxis\":{\"backgroundcolor\":\"#E5ECF6\",\"gridcolor\":\"white\",\"gridwidth\":2,\"linecolor\":\"white\",\"showbackground\":true,\"ticks\":\"\",\"zerolinecolor\":\"white\"}},\"shapedefaults\":{\"line\":{\"color\":\"#2a3f5f\"}},\"ternary\":{\"aaxis\":{\"gridcolor\":\"white\",\"linecolor\":\"white\",\"ticks\":\"\"},\"baxis\":{\"gridcolor\":\"white\",\"linecolor\":\"white\",\"ticks\":\"\"},\"bgcolor\":\"#E5ECF6\",\"caxis\":{\"gridcolor\":\"white\",\"linecolor\":\"white\",\"ticks\":\"\"}},\"title\":{\"x\":0.05},\"xaxis\":{\"automargin\":true,\"gridcolor\":\"white\",\"linecolor\":\"white\",\"ticks\":\"\",\"title\":{\"standoff\":15},\"zerolinecolor\":\"white\",\"zerolinewidth\":2},\"yaxis\":{\"automargin\":true,\"gridcolor\":\"white\",\"linecolor\":\"white\",\"ticks\":\"\",\"title\":{\"standoff\":15},\"zerolinecolor\":\"white\",\"zerolinewidth\":2}}},\"ternary\":{\"aaxis\":{\"title\":{\"text\":\"Share of Total Team Touches\"}},\"baxis\":{\"title\":{\"text\":\"Progressive Actions\"}},\"caxis\":{\"title\":{\"text\":\"% of Defensive Actions in Middle 3rd\"}},\"domain\":{\"x\":[0.0,1.0],\"y\":[0.0,1.0]}},\"title\":{\"text\":\"Triangular Play Style Plot: Defenders\"}},                        {\"responsive\": true}                    ).then(function(){\n",
       "                            \n",
       "var gd = document.getElementById('771dd444-3fb2-4df5-add2-3af370a0046d');\n",
       "var x = new MutationObserver(function (mutations, observer) {{\n",
       "        var display = window.getComputedStyle(gd).display;\n",
       "        if (!display || display === 'none') {{\n",
       "            console.log([gd, 'removed!']);\n",
       "            Plotly.purge(gd);\n",
       "            observer.disconnect();\n",
       "        }}\n",
       "}});\n",
       "\n",
       "// Listen for the removal of the full notebook cells\n",
       "var notebookContainer = gd.closest('#notebook-container');\n",
       "if (notebookContainer) {{\n",
       "    x.observe(notebookContainer, {childList: true});\n",
       "}}\n",
       "\n",
       "// Listen for the clearing of the current output cell\n",
       "var outputEl = gd.closest('.output');\n",
       "if (outputEl) {{\n",
       "    x.observe(outputEl, {childList: true});\n",
       "}}\n",
       "\n",
       "                        })                };                });            </script>        </div>"
      ]
     },
     "metadata": {},
     "output_type": "display_data"
    }
   ],
   "source": [
    "fig = px.scatter_ternary(model_df, a='Share of Total Team Touches', b='Progressive Actions', c='% of Defensive Actions in Middle 3rd', \n",
    "                         title='Triangular Play Style Plot: Defenders',\n",
    "                         color='cluster', size_max=15, hover_name='Player',\n",
    "                         size='Progressive Actions')\n",
    "fig.show()"
   ]
  },
  {
   "cell_type": "code",
   "execution_count": 2137,
   "id": "fb2d9768",
   "metadata": {},
   "outputs": [],
   "source": [
    "clusters = model_df[['Player', 'cluster']]\n",
    "df = pd.merge(df, clusters, on='Player', how='outer')"
   ]
  },
  {
   "cell_type": "code",
   "execution_count": 2138,
   "id": "9e991f92",
   "metadata": {},
   "outputs": [],
   "source": [
    "center_backs = df[df['cluster'] == 2]"
   ]
  },
  {
   "cell_type": "code",
   "execution_count": 2139,
   "id": "262c2f25",
   "metadata": {},
   "outputs": [],
   "source": [
    "center_backs['% of Defensive Actions in Defensive 3rd'] = pd.qcut(center_backs['Def 3rd DA%'], np.linspace(0,1,101), labels=np.linspace(0.01,1,100))\n",
    "center_backs['Progressive Actions'] = pd.qcut(center_backs.ProgActions, np.linspace(0,1,101), labels=np.linspace(0.01,1,100))\n",
    "center_backs['% of Defensive Actions in Middle 3rd'] = pd.qcut(center_backs['Mid 3rd DA%'], np.linspace(0,1,101), labels=np.linspace(0.01,1,100))"
   ]
  },
  {
   "cell_type": "code",
   "execution_count": 2140,
   "id": "eb698ea9",
   "metadata": {},
   "outputs": [],
   "source": [
    "center_backs = center_backs[['Player', 'Comp', 'cluster', 'Progressive Actions', '% of Defensive Actions in Middle 3rd']]\n",
    "params = center_backs.drop(['Player', 'Comp', 'cluster'], axis=1)"
   ]
  },
  {
   "cell_type": "code",
   "execution_count": 2141,
   "id": "9c8e2fcb",
   "metadata": {},
   "outputs": [
    {
     "data": {
      "text/plain": [
       "3    23\n",
       "1    21\n",
       "2    18\n",
       "0    13\n",
       "Name: Role, dtype: int64"
      ]
     },
     "execution_count": 2141,
     "metadata": {},
     "output_type": "execute_result"
    }
   ],
   "source": [
    "X = np.array(params)\n",
    "kmeans = KMeans(n_clusters=4, random_state=100)\n",
    "kmeans.fit(X)\n",
    "center_backs['Role'] = kmeans.predict(X)\n",
    "center_backs.Role.value_counts()"
   ]
  },
  {
   "cell_type": "code",
   "execution_count": 2142,
   "id": "6ce2347d",
   "metadata": {},
   "outputs": [
    {
     "data": {
      "image/png": "[encoded data removed]",
      "text/plain": [
       "<Figure size 1008x864 with 1 Axes>"
      ]
     },
     "metadata": {},
     "output_type": "display_data"
    }
   ],
   "source": [
    "role1 = center_backs[center_backs['Role'] == 0]\n",
    "role2 = center_backs[center_backs['Role'] == 1]\n",
    "role3 = center_backs[center_backs['Role'] == 2]\n",
    "role4 = center_backs[center_backs['Role'] == 3]\n",
    "\n",
    "Rubik = FontManager('https://github.com/googlefonts/rubik/blob/main/fonts/ttf/Rubik-Bold.ttf?raw=true')\n",
    "Rubik_italic = FontManager('https://github.com/googlefonts/rubik/blob/main/fonts/ttf/Rubik-ExtraBoldItalic.ttf?raw=true')\n",
    "\n",
    "x = center_backs['Progressive Actions']\n",
    "y = center_backs['% of Defensive Actions in Middle 3rd']\n",
    "\n",
    "x1 = role1['Progressive Actions']\n",
    "y1 = role1['% of Defensive Actions in Middle 3rd']\n",
    "x2 = role2['Progressive Actions']\n",
    "y2 = role2['% of Defensive Actions in Middle 3rd']\n",
    "x3 = role3['Progressive Actions']\n",
    "y3 = role3['% of Defensive Actions in Middle 3rd']\n",
    "x4 = role4['Progressive Actions']\n",
    "y4 = role4['% of Defensive Actions in Middle 3rd']\n",
    "\n",
    "plt.rcParams['axes.edgecolor'] = 'gray'\n",
    "\n",
    "fig, ax = plt.subplots(figsize=(14, 12))\n",
    "fig.set_facecolor('#1d2849')\n",
    "ax.set_facecolor('#1d2849')\n",
    "\n",
    "def plot_players(adjust=False, *args, **kwargs):\n",
    "    plt.scatter(x1, y1, s=15, c='#1d2849')\n",
    "    texts = []\n",
    "    for x, y, s in zip(x1, y1, role1['Player']):\n",
    "        texts.append(plt.text(x, y, s, size=10, fontproperties=Rubik.prop, color='#00a737'))\n",
    "    if adjust:\n",
    "        plt.title('%s iterations' % adjust_text(texts, force_text=0.05,\n",
    "                                                save_steps=True, **kwargs))\n",
    "        \n",
    "plot_players(adjust=True)\n",
    "\n",
    "def plot_players3(adjust=False, *args, **kwargs):\n",
    "    plt.scatter(x3, y3, s=15, c='#1d2849')\n",
    "    texts = []\n",
    "    for x, y, s in zip(x3, y3, role3['Player']):\n",
    "        texts.append(plt.text(x, y, s, size=10, fontproperties=Rubik.prop, color='#329682'))\n",
    "    if adjust:\n",
    "        plt.title('%s iterations' % adjust_text(texts, precision=0.01,\n",
    "                                                save_steps=True, **kwargs))\n",
    "        \n",
    "plot_players3(adjust=True)\n",
    "\n",
    "def plot_players2(adjust=False, *args, **kwargs):\n",
    "    plt.scatter(x2, y2, s=15, c='#1d2849')\n",
    "    texts = []\n",
    "    for x, y, s in zip(x2, y2, role2['Player']):\n",
    "        texts.append(plt.text(x, y, s, size=10, fontproperties=Rubik.prop, color='#96b4c8'))\n",
    "    if adjust:\n",
    "        plt.title('%s iterations' % adjust_text(texts, precision=0.01,\n",
    "                                                save_steps=True, **kwargs))\n",
    "        \n",
    "plot_players2(adjust=True)\n",
    "\n",
    "def plot_players4(adjust=False, *args, **kwargs):\n",
    "    plt.scatter(x4, y4, s=15, c='#1d2849')\n",
    "    texts = []\n",
    "    for x, y, s in zip(x4, y4, role4['Player']):\n",
    "        texts.append(plt.text(x, y, s, size=10, fontproperties=Rubik.prop, color='yellow'))\n",
    "    if adjust:\n",
    "        plt.title('%s iterations' % adjust_text(texts, precision=0.01,\n",
    "                                                save_steps=True, **kwargs))\n",
    "        \n",
    "plot_players4(adjust=True)\n",
    "    \n",
    "ax.set_title('Center Back Styles in the Top Five European Leagues - 2021/2022\\nMin 15 90s; Data as of 2/20/2022 [Fbref]\\n',\n",
    "             color='white', fontproperties=Rubik.prop, size=17)\n",
    "ax.set_xlabel('Progressive Actions Per 90 - Percentile', color='white', fontproperties=Rubik.prop, size=14)\n",
    "ax.set_ylabel('Defensive Actions in Middle 3rd - Percentile\\n(% of All Defensive Actions)', color='white',\n",
    "              fontproperties=Rubik.prop, size=14);\n",
    "ax.axhline(y=0.5, linestyle='--', color='gray')\n",
    "ax.axvline(x=0.5, linestyle='--', color='gray')\n",
    "ax.spines['top'].set_visible(False)\n",
    "ax.spines['right'].set_visible(False)\n",
    "ax.tick_params(axis='x', colors='white', size=10)\n",
    "ax.tick_params(axis='y', colors='white', size=10)\n",
    "\n",
    "for label in ax.get_xticklabels():\n",
    "    label.set_fontproperties(Rubik.prop)\n",
    "\n",
    "for label in ax.get_yticklabels():\n",
    "    label.set_fontproperties(Rubik.prop)\n",
    "    \n",
    "fig.text(\n",
    "    0.16, 0.88, 'High-Block Defender         Possession Oriented Defender          Low-Block Defender           Low-Block Progressive Defender', size=12,\n",
    "    fontproperties=Rubik_italic.prop, color='white')\n",
    "    \n",
    "# add rectangles\n",
    "fig.patches.extend([\n",
    "    plt.Rectangle(\n",
    "     (0.14, 0.88), 0.015, 0.011, fill=True, color='yellow',\n",
    "     transform=fig.transFigure, figure=fig\n",
    "    ),\n",
    "    plt.Rectangle(\n",
    "    (0.29, 0.88), 0.015, 0.011, fill=True, color='#96b4c8',\n",
    "    transform=fig.transFigure, figure=fig\n",
    "    ),\n",
    "    plt.Rectangle(\n",
    "    (0.5, 0.88), 0.015, 0.011, fill=True, color='#00a737',\n",
    "    transform=fig.transFigure, figure=fig\n",
    "    ),\n",
    "    plt.Rectangle(\n",
    "    (0.65, 0.88), 0.015, 0.011, fill=True, color='#329682',\n",
    "    transform=fig.transFigure, figure=fig\n",
    "    )\n",
    "])\n",
    "\n",
    "fig.text(0.13, 0.083,'Created by @egudi_analysis', size=12, color='white', fontproperties=Rubik.prop);\n",
    "fig.text(0.2, 0.06,'Defensive actions include tackles and pressures; progressive actions include carries and passes'\n",
    "         , size=12, color='white', fontproperties=Rubik_italic.prop);\n",
    "\n",
    "plt.savefig('center-back-styles.png')"
   ]
  },
  {
   "cell_type": "markdown",
   "id": "576e5070",
   "metadata": {},
   "source": [
    "## Center-Back Possession Oriented Profile\n",
    "\n",
    "### Metrics\n",
    "1. Passing % - Y\n",
    "2. Pressures - Y\n",
    "3. Fouls - Y\n",
    "4. Tackle % - Y\n",
    "5. padj Tackles - y\n",
    "6. padj Interceptions - y\n",
    "7. Aerials Won - Y\n",
    "8. Aerial Win % - Y\n",
    "9. Progressive Actions - Y\n",
    "10. Defensive Actions in Middle 3rd % - Y"
   ]
  },
  {
   "cell_type": "code",
   "execution_count": 2081,
   "id": "d5cffc5f",
   "metadata": {},
   "outputs": [],
   "source": [
    "cb_template = df[['Player', 'Cmp%', 'Press', 'Fls', 'Tkl%', 'Tkl', 'Int', 'Won', 'Won%', 'ProgActions', 'Def 3rd DA%']]\n",
    "pau_torres = cb_template[cb_template['Player'] == 'Pau Torres']\n",
    "gerard_pique = cb_template[cb_template['Player'] == 'Gerard Piqué']"
   ]
  },
  {
   "cell_type": "code",
   "execution_count": 2103,
   "id": "d9dd42fc",
   "metadata": {},
   "outputs": [],
   "source": [
    "villareal = pd.read_html('https://fbref.com/en/share/stArB', header=1)[0]\n",
    "villareal = villareal[['Date', 'Poss']]\n",
    "pau = pd.read_html('https://fbref.com/en/share/lYtAr', header=1)[0]\n",
    "pau = pau[['Date', 'Min', 'Tkl', 'Int']]\n",
    "pau = pau.fillna(value=0)\n",
    "pau = pd.merge(pau, villareal, on='Date', how='outer')\n",
    "pau = pau[['Date', 'Min', 'Poss', 'Tkl', 'Int']]\n",
    "pau = pau.dropna(axis=0)\n",
    "pau = pau[pau['Date'] != 'Date']\n",
    "pau[['Min', 'Poss', 'Tkl', 'Int']] = pau[['Min', 'Poss', 'Tkl', 'Int']].astype('float')\n",
    "pau['padjTkl'] = (0.5 / ((100 - pau.Poss) / 100) * pau.Tkl)\n",
    "pau['padjInt'] = (0.5 / ((100 - pau.Poss) / 100) * pau.Int)\n",
    "pau_torres['padjTkls'] = round((pau.padjTkl).sum() / (pau.Min.sum() / 90),2)\n",
    "pau_torres['padjInt'] = round((pau.padjInt).sum() / (pau.Min.sum() / 90),2)\n",
    "\n",
    "barca = pd.read_html('https://fbref.com/en/share/lii6n', header=0)[0]\n",
    "barca = barca[['Date', 'Poss']]\n",
    "pique = pd.read_html('https://fbref.com/en/share/Wp3Cx', header=1)[0]\n",
    "pique = pique[['Date', 'Min', 'Tkl', 'Int']]\n",
    "pique = pique.fillna(value=0)\n",
    "pique = pd.merge(pique, barca, on='Date', how='outer')\n",
    "pique = pique[['Date', 'Min', 'Poss', 'Tkl', 'Int']]\n",
    "pique = pique.dropna(axis=0)\n",
    "pique = pique[pique['Date'] != 'Date']\n",
    "pique[['Min', 'Poss', 'Tkl', 'Int']] = pique[['Min', 'Poss', 'Tkl', 'Int']].astype('float')\n",
    "pique['padjInt'] = (0.5 / ((100 - pique.Poss) / 100) * pau.Int)\n",
    "pique['padjTkl'] = (0.5 / ((100 - pique.Poss) / 100) * pau.Tkl)\n",
    "gerard_pique['padjTkls'] = round((pique.padjTkl).sum() / (pique.Min.sum() / 90),2)\n",
    "gerard_pique['padjInt'] = round((pique.padjInt).sum() / (pique.Min.sum() / 90),2)"
   ]
  },
  {
   "cell_type": "code",
   "execution_count": 2104,
   "id": "6f3b4ed1",
   "metadata": {},
   "outputs": [],
   "source": [
    "pau_torres = pau_torres[['Player', 'Cmp%', 'Press', 'Fls', 'Tkl%', 'padjTkls', 'padjInt', 'Won', 'Won%', 'ProgActions', 'Def 3rd DA%']]\n",
    "gerard_pique = gerard_pique[['Player', 'Cmp%', 'Press', 'Fls', 'Tkl%', 'padjTkls', 'padjInt', 'Won', 'Won%', 'ProgActions', 'Def 3rd DA%']]"
   ]
  }
 ],
 "metadata": {
  "kernelspec": {
   "display_name": "Python 3",
   "language": "python",
   "name": "python3"
  },
  "language_info": {
   "codemirror_mode": {
    "name": "ipython",
    "version": 3
   },
   "file_extension": ".py",
   "mimetype": "text/x-python",
   "name": "python",
   "nbconvert_exporter": "python",
   "pygments_lexer": "ipython3",
   "version": "3.8.8"
  }
 },
 "nbformat": 4,
 "nbformat_minor": 5
}
